{
 "cells": [
  {
   "cell_type": "code",
   "execution_count": 19,
   "metadata": {
    "ExecuteTime": {
     "end_time": "2020-09-23T13:36:48.585526Z",
     "start_time": "2020-09-23T13:36:45.497843Z"
    }
   },
   "outputs": [],
   "source": [
    "import pandas as pd\n",
    "import numpy as np\n",
    "import matplotlib.pyplot as plt\n",
    "import seaborn as sns"
   ]
  },
  {
   "cell_type": "code",
   "execution_count": 20,
   "metadata": {
    "ExecuteTime": {
     "end_time": "2020-09-23T20:18:17.290424Z",
     "start_time": "2020-09-23T20:18:13.285637Z"
    }
   },
   "outputs": [],
   "source": [
    "raw = pd.read_csv(\"raw_camera6-0400-0415.csv\" )\n",
    "new = pd.read_csv(\"true_camera6-0400-0415.csv\")"
   ]
  },
  {
   "cell_type": "code",
   "execution_count": 21,
   "metadata": {
    "ExecuteTime": {
     "end_time": "2020-09-23T20:18:20.079462Z",
     "start_time": "2020-09-23T20:18:20.073405Z"
    }
   },
   "outputs": [
    {
     "data": {
      "text/plain": [
       "(196411, 18)"
      ]
     },
     "execution_count": 21,
     "metadata": {},
     "output_type": "execute_result"
    }
   ],
   "source": [
    "raw.shape"
   ]
  },
  {
   "cell_type": "code",
   "execution_count": 22,
   "metadata": {
    "ExecuteTime": {
     "end_time": "2020-09-23T13:36:52.289734Z",
     "start_time": "2020-09-23T13:36:51.857857Z"
    }
   },
   "outputs": [],
   "source": [
    "df = raw.merge(new, how = \"inner\", on = [\"Vehicle_ID\", \"Frame_ID\"], suffixes=[\"_raw\",\"_new\"])"
   ]
  },
  {
   "cell_type": "code",
   "execution_count": 23,
   "metadata": {
    "ExecuteTime": {
     "end_time": "2020-09-23T13:36:53.727723Z",
     "start_time": "2020-09-23T13:36:53.546207Z"
    }
   },
   "outputs": [
    {
     "data": {
      "text/html": [
       "<div>\n",
       "<style scoped>\n",
       "    .dataframe tbody tr th:only-of-type {\n",
       "        vertical-align: middle;\n",
       "    }\n",
       "\n",
       "    .dataframe tbody tr th {\n",
       "        vertical-align: top;\n",
       "    }\n",
       "\n",
       "    .dataframe thead th {\n",
       "        text-align: right;\n",
       "    }\n",
       "</style>\n",
       "<table border=\"1\" class=\"dataframe\">\n",
       "  <thead>\n",
       "    <tr style=\"text-align: right;\">\n",
       "      <th></th>\n",
       "      <th>v_Acc_raw</th>\n",
       "      <th>v_Acc_new</th>\n",
       "    </tr>\n",
       "  </thead>\n",
       "  <tbody>\n",
       "    <tr>\n",
       "      <th>0</th>\n",
       "      <td>7.23</td>\n",
       "      <td>0.288891</td>\n",
       "    </tr>\n",
       "    <tr>\n",
       "      <th>1</th>\n",
       "      <td>3.54</td>\n",
       "      <td>0.590179</td>\n",
       "    </tr>\n",
       "    <tr>\n",
       "      <th>2</th>\n",
       "      <td>0.67</td>\n",
       "      <td>0.940422</td>\n",
       "    </tr>\n",
       "    <tr>\n",
       "      <th>3</th>\n",
       "      <td>-0.31</td>\n",
       "      <td>1.309290</td>\n",
       "    </tr>\n",
       "    <tr>\n",
       "      <th>4</th>\n",
       "      <td>0.22</td>\n",
       "      <td>1.665305</td>\n",
       "    </tr>\n",
       "    <tr>\n",
       "      <th>...</th>\n",
       "      <td>...</td>\n",
       "      <td>...</td>\n",
       "    </tr>\n",
       "    <tr>\n",
       "      <th>196406</th>\n",
       "      <td>1.27</td>\n",
       "      <td>1.852183</td>\n",
       "    </tr>\n",
       "    <tr>\n",
       "      <th>196407</th>\n",
       "      <td>11.20</td>\n",
       "      <td>1.627620</td>\n",
       "    </tr>\n",
       "    <tr>\n",
       "      <th>196408</th>\n",
       "      <td>11.20</td>\n",
       "      <td>1.176378</td>\n",
       "    </tr>\n",
       "    <tr>\n",
       "      <th>196409</th>\n",
       "      <td>6.41</td>\n",
       "      <td>0.663035</td>\n",
       "    </tr>\n",
       "    <tr>\n",
       "      <th>196410</th>\n",
       "      <td>7.04</td>\n",
       "      <td>-0.219838</td>\n",
       "    </tr>\n",
       "  </tbody>\n",
       "</table>\n",
       "<p>196411 rows × 2 columns</p>\n",
       "</div>"
      ],
      "text/plain": [
       "        v_Acc_raw  v_Acc_new\n",
       "0            7.23   0.288891\n",
       "1            3.54   0.590179\n",
       "2            0.67   0.940422\n",
       "3           -0.31   1.309290\n",
       "4            0.22   1.665305\n",
       "...           ...        ...\n",
       "196406       1.27   1.852183\n",
       "196407      11.20   1.627620\n",
       "196408      11.20   1.176378\n",
       "196409       6.41   0.663035\n",
       "196410       7.04  -0.219838\n",
       "\n",
       "[196411 rows x 2 columns]"
      ]
     },
     "execution_count": 23,
     "metadata": {},
     "output_type": "execute_result"
    }
   ],
   "source": [
    "df.loc[:, df.columns.str.contains(\"Ac\")]"
   ]
  },
  {
   "cell_type": "code",
   "execution_count": 24,
   "metadata": {
    "ExecuteTime": {
     "end_time": "2020-09-23T13:37:26.213276Z",
     "start_time": "2020-09-23T13:37:26.083624Z"
    }
   },
   "outputs": [
    {
     "data": {
      "text/html": [
       "<div>\n",
       "<style scoped>\n",
       "    .dataframe tbody tr th:only-of-type {\n",
       "        vertical-align: middle;\n",
       "    }\n",
       "\n",
       "    .dataframe tbody tr th {\n",
       "        vertical-align: top;\n",
       "    }\n",
       "\n",
       "    .dataframe thead th {\n",
       "        text-align: right;\n",
       "    }\n",
       "</style>\n",
       "<table border=\"1\" class=\"dataframe\">\n",
       "  <thead>\n",
       "    <tr style=\"text-align: right;\">\n",
       "      <th></th>\n",
       "      <th>Vehicle_ID</th>\n",
       "      <th>Frame_ID</th>\n",
       "      <th>Total_Frames_raw</th>\n",
       "      <th>Global_Time_raw</th>\n",
       "      <th>Local_X_raw</th>\n",
       "      <th>Local_Y_raw</th>\n",
       "      <th>Global_X_raw</th>\n",
       "      <th>Global_Y_raw</th>\n",
       "      <th>v_Length_raw</th>\n",
       "      <th>v_Width_raw</th>\n",
       "      <th>...</th>\n",
       "      <th>v_Length_new</th>\n",
       "      <th>v_Width_new</th>\n",
       "      <th>v_Class_new</th>\n",
       "      <th>v_Vel_new</th>\n",
       "      <th>v_Acc_new</th>\n",
       "      <th>Lane_ID_new</th>\n",
       "      <th>Preceding_new</th>\n",
       "      <th>Following_new</th>\n",
       "      <th>Space_Headway_new</th>\n",
       "      <th>Time_Headway_new</th>\n",
       "    </tr>\n",
       "  </thead>\n",
       "  <tbody>\n",
       "    <tr>\n",
       "      <th>0</th>\n",
       "      <td>1.0</td>\n",
       "      <td>743.0</td>\n",
       "      <td>884.0</td>\n",
       "      <td>1.113433e+12</td>\n",
       "      <td>16.753</td>\n",
       "      <td>1255.157</td>\n",
       "      <td>6042680.296</td>\n",
       "      <td>2134314.235</td>\n",
       "      <td>14.3</td>\n",
       "      <td>6.4</td>\n",
       "      <td>...</td>\n",
       "      <td>0.0</td>\n",
       "      <td>0.0</td>\n",
       "      <td>0.0</td>\n",
       "      <td>18.512937</td>\n",
       "      <td>0.288891</td>\n",
       "      <td>2.0</td>\n",
       "      <td>4227.0</td>\n",
       "      <td>11.0</td>\n",
       "      <td>0.0</td>\n",
       "      <td>0.0</td>\n",
       "    </tr>\n",
       "    <tr>\n",
       "      <th>1</th>\n",
       "      <td>1.0</td>\n",
       "      <td>744.0</td>\n",
       "      <td>884.0</td>\n",
       "      <td>1.113433e+12</td>\n",
       "      <td>16.710</td>\n",
       "      <td>1257.448</td>\n",
       "      <td>6042679.875</td>\n",
       "      <td>2134316.505</td>\n",
       "      <td>14.3</td>\n",
       "      <td>6.4</td>\n",
       "      <td>...</td>\n",
       "      <td>0.0</td>\n",
       "      <td>0.0</td>\n",
       "      <td>0.0</td>\n",
       "      <td>18.565725</td>\n",
       "      <td>0.590179</td>\n",
       "      <td>2.0</td>\n",
       "      <td>4227.0</td>\n",
       "      <td>11.0</td>\n",
       "      <td>0.0</td>\n",
       "      <td>0.0</td>\n",
       "    </tr>\n",
       "    <tr>\n",
       "      <th>2</th>\n",
       "      <td>1.0</td>\n",
       "      <td>745.0</td>\n",
       "      <td>884.0</td>\n",
       "      <td>1.113433e+12</td>\n",
       "      <td>16.654</td>\n",
       "      <td>1259.772</td>\n",
       "      <td>6042679.438</td>\n",
       "      <td>2134318.792</td>\n",
       "      <td>14.3</td>\n",
       "      <td>6.4</td>\n",
       "      <td>...</td>\n",
       "      <td>0.0</td>\n",
       "      <td>0.0</td>\n",
       "      <td>0.0</td>\n",
       "      <td>18.657105</td>\n",
       "      <td>0.940422</td>\n",
       "      <td>2.0</td>\n",
       "      <td>4227.0</td>\n",
       "      <td>11.0</td>\n",
       "      <td>0.0</td>\n",
       "      <td>0.0</td>\n",
       "    </tr>\n",
       "    <tr>\n",
       "      <th>3</th>\n",
       "      <td>1.0</td>\n",
       "      <td>746.0</td>\n",
       "      <td>884.0</td>\n",
       "      <td>1.113433e+12</td>\n",
       "      <td>16.597</td>\n",
       "      <td>1262.092</td>\n",
       "      <td>6042679.004</td>\n",
       "      <td>2134321.060</td>\n",
       "      <td>14.3</td>\n",
       "      <td>6.4</td>\n",
       "      <td>...</td>\n",
       "      <td>0.0</td>\n",
       "      <td>0.0</td>\n",
       "      <td>0.0</td>\n",
       "      <td>18.790235</td>\n",
       "      <td>1.309290</td>\n",
       "      <td>2.0</td>\n",
       "      <td>4227.0</td>\n",
       "      <td>11.0</td>\n",
       "      <td>0.0</td>\n",
       "      <td>0.0</td>\n",
       "    </tr>\n",
       "    <tr>\n",
       "      <th>4</th>\n",
       "      <td>1.0</td>\n",
       "      <td>747.0</td>\n",
       "      <td>884.0</td>\n",
       "      <td>1.113433e+12</td>\n",
       "      <td>16.543</td>\n",
       "      <td>1264.399</td>\n",
       "      <td>6042678.572</td>\n",
       "      <td>2134323.329</td>\n",
       "      <td>14.3</td>\n",
       "      <td>6.4</td>\n",
       "      <td>...</td>\n",
       "      <td>0.0</td>\n",
       "      <td>0.0</td>\n",
       "      <td>0.0</td>\n",
       "      <td>18.962361</td>\n",
       "      <td>1.665305</td>\n",
       "      <td>2.0</td>\n",
       "      <td>4227.0</td>\n",
       "      <td>11.0</td>\n",
       "      <td>0.0</td>\n",
       "      <td>0.0</td>\n",
       "    </tr>\n",
       "    <tr>\n",
       "      <th>...</th>\n",
       "      <td>...</td>\n",
       "      <td>...</td>\n",
       "      <td>...</td>\n",
       "      <td>...</td>\n",
       "      <td>...</td>\n",
       "      <td>...</td>\n",
       "      <td>...</td>\n",
       "      <td>...</td>\n",
       "      <td>...</td>\n",
       "      <td>...</td>\n",
       "      <td>...</td>\n",
       "      <td>...</td>\n",
       "      <td>...</td>\n",
       "      <td>...</td>\n",
       "      <td>...</td>\n",
       "      <td>...</td>\n",
       "      <td>...</td>\n",
       "      <td>...</td>\n",
       "      <td>...</td>\n",
       "      <td>...</td>\n",
       "      <td>...</td>\n",
       "    </tr>\n",
       "    <tr>\n",
       "      <th>196406</th>\n",
       "      <td>3366.0</td>\n",
       "      <td>3199.0</td>\n",
       "      <td>291.0</td>\n",
       "      <td>1.113433e+12</td>\n",
       "      <td>3.077</td>\n",
       "      <td>1452.284</td>\n",
       "      <td>6042635.110</td>\n",
       "      <td>2134506.440</td>\n",
       "      <td>16.8</td>\n",
       "      <td>6.9</td>\n",
       "      <td>...</td>\n",
       "      <td>0.0</td>\n",
       "      <td>0.0</td>\n",
       "      <td>0.0</td>\n",
       "      <td>61.659812</td>\n",
       "      <td>1.852183</td>\n",
       "      <td>1.0</td>\n",
       "      <td>0.0</td>\n",
       "      <td>978.0</td>\n",
       "      <td>0.0</td>\n",
       "      <td>0.0</td>\n",
       "    </tr>\n",
       "    <tr>\n",
       "      <th>196407</th>\n",
       "      <td>3366.0</td>\n",
       "      <td>3200.0</td>\n",
       "      <td>291.0</td>\n",
       "      <td>1.113433e+12</td>\n",
       "      <td>3.044</td>\n",
       "      <td>1458.088</td>\n",
       "      <td>6042634.080</td>\n",
       "      <td>2134512.545</td>\n",
       "      <td>16.8</td>\n",
       "      <td>6.9</td>\n",
       "      <td>...</td>\n",
       "      <td>0.0</td>\n",
       "      <td>0.0</td>\n",
       "      <td>0.0</td>\n",
       "      <td>61.841169</td>\n",
       "      <td>1.627620</td>\n",
       "      <td>1.0</td>\n",
       "      <td>0.0</td>\n",
       "      <td>978.0</td>\n",
       "      <td>0.0</td>\n",
       "      <td>0.0</td>\n",
       "    </tr>\n",
       "    <tr>\n",
       "      <th>196408</th>\n",
       "      <td>3366.0</td>\n",
       "      <td>3201.0</td>\n",
       "      <td>291.0</td>\n",
       "      <td>1.113433e+12</td>\n",
       "      <td>3.020</td>\n",
       "      <td>1464.198</td>\n",
       "      <td>6042633.117</td>\n",
       "      <td>2134518.290</td>\n",
       "      <td>16.8</td>\n",
       "      <td>6.9</td>\n",
       "      <td>...</td>\n",
       "      <td>0.0</td>\n",
       "      <td>0.0</td>\n",
       "      <td>0.0</td>\n",
       "      <td>61.984163</td>\n",
       "      <td>1.176378</td>\n",
       "      <td>1.0</td>\n",
       "      <td>0.0</td>\n",
       "      <td>978.0</td>\n",
       "      <td>0.0</td>\n",
       "      <td>0.0</td>\n",
       "    </tr>\n",
       "    <tr>\n",
       "      <th>196409</th>\n",
       "      <td>3366.0</td>\n",
       "      <td>3202.0</td>\n",
       "      <td>291.0</td>\n",
       "      <td>1.113433e+12</td>\n",
       "      <td>3.020</td>\n",
       "      <td>1470.502</td>\n",
       "      <td>6042632.102</td>\n",
       "      <td>2134524.508</td>\n",
       "      <td>16.8</td>\n",
       "      <td>6.9</td>\n",
       "      <td>...</td>\n",
       "      <td>0.0</td>\n",
       "      <td>0.0</td>\n",
       "      <td>0.0</td>\n",
       "      <td>62.130741</td>\n",
       "      <td>0.663035</td>\n",
       "      <td>1.0</td>\n",
       "      <td>0.0</td>\n",
       "      <td>978.0</td>\n",
       "      <td>0.0</td>\n",
       "      <td>0.0</td>\n",
       "    </tr>\n",
       "    <tr>\n",
       "      <th>196410</th>\n",
       "      <td>3366.0</td>\n",
       "      <td>3203.0</td>\n",
       "      <td>291.0</td>\n",
       "      <td>1.113433e+12</td>\n",
       "      <td>3.003</td>\n",
       "      <td>1476.933</td>\n",
       "      <td>6042631.048</td>\n",
       "      <td>2134530.859</td>\n",
       "      <td>16.8</td>\n",
       "      <td>6.9</td>\n",
       "      <td>...</td>\n",
       "      <td>0.0</td>\n",
       "      <td>0.0</td>\n",
       "      <td>0.0</td>\n",
       "      <td>62.177580</td>\n",
       "      <td>-0.219838</td>\n",
       "      <td>1.0</td>\n",
       "      <td>0.0</td>\n",
       "      <td>978.0</td>\n",
       "      <td>0.0</td>\n",
       "      <td>0.0</td>\n",
       "    </tr>\n",
       "  </tbody>\n",
       "</table>\n",
       "<p>196411 rows × 34 columns</p>\n",
       "</div>"
      ],
      "text/plain": [
       "        Vehicle_ID  Frame_ID  Total_Frames_raw  Global_Time_raw  Local_X_raw  \\\n",
       "0              1.0     743.0             884.0     1.113433e+12       16.753   \n",
       "1              1.0     744.0             884.0     1.113433e+12       16.710   \n",
       "2              1.0     745.0             884.0     1.113433e+12       16.654   \n",
       "3              1.0     746.0             884.0     1.113433e+12       16.597   \n",
       "4              1.0     747.0             884.0     1.113433e+12       16.543   \n",
       "...            ...       ...               ...              ...          ...   \n",
       "196406      3366.0    3199.0             291.0     1.113433e+12        3.077   \n",
       "196407      3366.0    3200.0             291.0     1.113433e+12        3.044   \n",
       "196408      3366.0    3201.0             291.0     1.113433e+12        3.020   \n",
       "196409      3366.0    3202.0             291.0     1.113433e+12        3.020   \n",
       "196410      3366.0    3203.0             291.0     1.113433e+12        3.003   \n",
       "\n",
       "        Local_Y_raw  Global_X_raw  Global_Y_raw  v_Length_raw  v_Width_raw  \\\n",
       "0          1255.157   6042680.296   2134314.235          14.3          6.4   \n",
       "1          1257.448   6042679.875   2134316.505          14.3          6.4   \n",
       "2          1259.772   6042679.438   2134318.792          14.3          6.4   \n",
       "3          1262.092   6042679.004   2134321.060          14.3          6.4   \n",
       "4          1264.399   6042678.572   2134323.329          14.3          6.4   \n",
       "...             ...           ...           ...           ...          ...   \n",
       "196406     1452.284   6042635.110   2134506.440          16.8          6.9   \n",
       "196407     1458.088   6042634.080   2134512.545          16.8          6.9   \n",
       "196408     1464.198   6042633.117   2134518.290          16.8          6.9   \n",
       "196409     1470.502   6042632.102   2134524.508          16.8          6.9   \n",
       "196410     1476.933   6042631.048   2134530.859          16.8          6.9   \n",
       "\n",
       "        ...  v_Length_new  v_Width_new  v_Class_new  v_Vel_new  v_Acc_new  \\\n",
       "0       ...           0.0          0.0          0.0  18.512937   0.288891   \n",
       "1       ...           0.0          0.0          0.0  18.565725   0.590179   \n",
       "2       ...           0.0          0.0          0.0  18.657105   0.940422   \n",
       "3       ...           0.0          0.0          0.0  18.790235   1.309290   \n",
       "4       ...           0.0          0.0          0.0  18.962361   1.665305   \n",
       "...     ...           ...          ...          ...        ...        ...   \n",
       "196406  ...           0.0          0.0          0.0  61.659812   1.852183   \n",
       "196407  ...           0.0          0.0          0.0  61.841169   1.627620   \n",
       "196408  ...           0.0          0.0          0.0  61.984163   1.176378   \n",
       "196409  ...           0.0          0.0          0.0  62.130741   0.663035   \n",
       "196410  ...           0.0          0.0          0.0  62.177580  -0.219838   \n",
       "\n",
       "        Lane_ID_new  Preceding_new  Following_new  Space_Headway_new  \\\n",
       "0               2.0         4227.0           11.0                0.0   \n",
       "1               2.0         4227.0           11.0                0.0   \n",
       "2               2.0         4227.0           11.0                0.0   \n",
       "3               2.0         4227.0           11.0                0.0   \n",
       "4               2.0         4227.0           11.0                0.0   \n",
       "...             ...            ...            ...                ...   \n",
       "196406          1.0            0.0          978.0                0.0   \n",
       "196407          1.0            0.0          978.0                0.0   \n",
       "196408          1.0            0.0          978.0                0.0   \n",
       "196409          1.0            0.0          978.0                0.0   \n",
       "196410          1.0            0.0          978.0                0.0   \n",
       "\n",
       "        Time_Headway_new  \n",
       "0                    0.0  \n",
       "1                    0.0  \n",
       "2                    0.0  \n",
       "3                    0.0  \n",
       "4                    0.0  \n",
       "...                  ...  \n",
       "196406               0.0  \n",
       "196407               0.0  \n",
       "196408               0.0  \n",
       "196409               0.0  \n",
       "196410               0.0  \n",
       "\n",
       "[196411 rows x 34 columns]"
      ]
     },
     "execution_count": 24,
     "metadata": {},
     "output_type": "execute_result"
    }
   ],
   "source": [
    "df"
   ]
  },
  {
   "cell_type": "code",
   "execution_count": 25,
   "metadata": {
    "ExecuteTime": {
     "end_time": "2020-09-23T13:41:32.982952Z",
     "start_time": "2020-09-23T13:41:32.950042Z"
    }
   },
   "outputs": [
    {
     "data": {
      "text/html": [
       "<div>\n",
       "<style scoped>\n",
       "    .dataframe tbody tr th:only-of-type {\n",
       "        vertical-align: middle;\n",
       "    }\n",
       "\n",
       "    .dataframe tbody tr th {\n",
       "        vertical-align: top;\n",
       "    }\n",
       "\n",
       "    .dataframe thead th {\n",
       "        text-align: right;\n",
       "    }\n",
       "</style>\n",
       "<table border=\"1\" class=\"dataframe\">\n",
       "  <thead>\n",
       "    <tr style=\"text-align: right;\">\n",
       "      <th></th>\n",
       "      <th>Local_X_raw</th>\n",
       "      <th>Local_Y_raw</th>\n",
       "      <th>Local_X_new</th>\n",
       "      <th>Local_Y_new</th>\n",
       "    </tr>\n",
       "  </thead>\n",
       "  <tbody>\n",
       "    <tr>\n",
       "      <th>6164</th>\n",
       "      <td>54.057</td>\n",
       "      <td>1456.208</td>\n",
       "      <td>0.0</td>\n",
       "      <td>1442.32</td>\n",
       "    </tr>\n",
       "    <tr>\n",
       "      <th>77629</th>\n",
       "      <td>53.526</td>\n",
       "      <td>1384.115</td>\n",
       "      <td>0.0</td>\n",
       "      <td>1369.52</td>\n",
       "    </tr>\n",
       "    <tr>\n",
       "      <th>42022</th>\n",
       "      <td>12.357</td>\n",
       "      <td>1422.139</td>\n",
       "      <td>0.0</td>\n",
       "      <td>1409.01</td>\n",
       "    </tr>\n",
       "    <tr>\n",
       "      <th>45716</th>\n",
       "      <td>16.814</td>\n",
       "      <td>1379.318</td>\n",
       "      <td>0.0</td>\n",
       "      <td>1369.90</td>\n",
       "    </tr>\n",
       "    <tr>\n",
       "      <th>192568</th>\n",
       "      <td>41.711</td>\n",
       "      <td>1469.701</td>\n",
       "      <td>0.0</td>\n",
       "      <td>1454.13</td>\n",
       "    </tr>\n",
       "    <tr>\n",
       "      <th>16117</th>\n",
       "      <td>6.611</td>\n",
       "      <td>1383.251</td>\n",
       "      <td>0.0</td>\n",
       "      <td>1377.09</td>\n",
       "    </tr>\n",
       "    <tr>\n",
       "      <th>123266</th>\n",
       "      <td>16.316</td>\n",
       "      <td>1359.961</td>\n",
       "      <td>0.0</td>\n",
       "      <td>1344.41</td>\n",
       "    </tr>\n",
       "    <tr>\n",
       "      <th>184608</th>\n",
       "      <td>55.387</td>\n",
       "      <td>1465.181</td>\n",
       "      <td>0.0</td>\n",
       "      <td>1445.82</td>\n",
       "    </tr>\n",
       "    <tr>\n",
       "      <th>9328</th>\n",
       "      <td>68.616</td>\n",
       "      <td>1422.978</td>\n",
       "      <td>0.0</td>\n",
       "      <td>1409.63</td>\n",
       "    </tr>\n",
       "    <tr>\n",
       "      <th>48173</th>\n",
       "      <td>65.953</td>\n",
       "      <td>1412.704</td>\n",
       "      <td>0.0</td>\n",
       "      <td>1363.23</td>\n",
       "    </tr>\n",
       "  </tbody>\n",
       "</table>\n",
       "</div>"
      ],
      "text/plain": [
       "        Local_X_raw  Local_Y_raw  Local_X_new  Local_Y_new\n",
       "6164         54.057     1456.208          0.0      1442.32\n",
       "77629        53.526     1384.115          0.0      1369.52\n",
       "42022        12.357     1422.139          0.0      1409.01\n",
       "45716        16.814     1379.318          0.0      1369.90\n",
       "192568       41.711     1469.701          0.0      1454.13\n",
       "16117         6.611     1383.251          0.0      1377.09\n",
       "123266       16.316     1359.961          0.0      1344.41\n",
       "184608       55.387     1465.181          0.0      1445.82\n",
       "9328         68.616     1422.978          0.0      1409.63\n",
       "48173        65.953     1412.704          0.0      1363.23"
      ]
     },
     "execution_count": 25,
     "metadata": {},
     "output_type": "execute_result"
    }
   ],
   "source": [
    "df.loc[:, df.columns.str.contains(\"Local\")].sample(10)"
   ]
  },
  {
   "cell_type": "code",
   "execution_count": 26,
   "metadata": {
    "ExecuteTime": {
     "end_time": "2020-09-23T20:10:43.473644Z",
     "start_time": "2020-09-23T20:10:43.395849Z"
    }
   },
   "outputs": [
    {
     "data": {
      "text/html": [
       "<div>\n",
       "<style scoped>\n",
       "    .dataframe tbody tr th:only-of-type {\n",
       "        vertical-align: middle;\n",
       "    }\n",
       "\n",
       "    .dataframe tbody tr th {\n",
       "        vertical-align: top;\n",
       "    }\n",
       "\n",
       "    .dataframe thead th {\n",
       "        text-align: right;\n",
       "    }\n",
       "</style>\n",
       "<table border=\"1\" class=\"dataframe\">\n",
       "  <thead>\n",
       "    <tr style=\"text-align: right;\">\n",
       "      <th></th>\n",
       "      <th>Local_Y_raw</th>\n",
       "      <th>Local_Y_new</th>\n",
       "    </tr>\n",
       "  </thead>\n",
       "  <tbody>\n",
       "    <tr>\n",
       "      <th>897</th>\n",
       "      <td>1362.380</td>\n",
       "      <td>1332.36</td>\n",
       "    </tr>\n",
       "    <tr>\n",
       "      <th>902</th>\n",
       "      <td>1375.454</td>\n",
       "      <td>1345.44</td>\n",
       "    </tr>\n",
       "    <tr>\n",
       "      <th>903</th>\n",
       "      <td>1378.376</td>\n",
       "      <td>1348.11</td>\n",
       "    </tr>\n",
       "    <tr>\n",
       "      <th>904</th>\n",
       "      <td>1381.267</td>\n",
       "      <td>1350.80</td>\n",
       "    </tr>\n",
       "    <tr>\n",
       "      <th>905</th>\n",
       "      <td>1384.080</td>\n",
       "      <td>1353.49</td>\n",
       "    </tr>\n",
       "    <tr>\n",
       "      <th>...</th>\n",
       "      <td>...</td>\n",
       "      <td>...</td>\n",
       "    </tr>\n",
       "    <tr>\n",
       "      <th>195509</th>\n",
       "      <td>1512.781</td>\n",
       "      <td>1453.77</td>\n",
       "    </tr>\n",
       "    <tr>\n",
       "      <th>195510</th>\n",
       "      <td>1518.284</td>\n",
       "      <td>1459.18</td>\n",
       "    </tr>\n",
       "    <tr>\n",
       "      <th>195511</th>\n",
       "      <td>1524.008</td>\n",
       "      <td>1464.59</td>\n",
       "    </tr>\n",
       "    <tr>\n",
       "      <th>195512</th>\n",
       "      <td>1529.846</td>\n",
       "      <td>1469.99</td>\n",
       "    </tr>\n",
       "    <tr>\n",
       "      <th>195513</th>\n",
       "      <td>1535.731</td>\n",
       "      <td>1475.40</td>\n",
       "    </tr>\n",
       "  </tbody>\n",
       "</table>\n",
       "<p>10469 rows × 2 columns</p>\n",
       "</div>"
      ],
      "text/plain": [
       "        Local_Y_raw  Local_Y_new\n",
       "897        1362.380      1332.36\n",
       "902        1375.454      1345.44\n",
       "903        1378.376      1348.11\n",
       "904        1381.267      1350.80\n",
       "905        1384.080      1353.49\n",
       "...             ...          ...\n",
       "195509     1512.781      1453.77\n",
       "195510     1518.284      1459.18\n",
       "195511     1524.008      1464.59\n",
       "195512     1529.846      1469.99\n",
       "195513     1535.731      1475.40\n",
       "\n",
       "[10469 rows x 2 columns]"
      ]
     },
     "execution_count": 26,
     "metadata": {},
     "output_type": "execute_result"
    }
   ],
   "source": [
    "df[(df.Local_Y_raw - df.Local_Y_new) > 30][[\"Local_Y_raw\", \"Local_Y_new\"]]"
   ]
  },
  {
   "cell_type": "code",
   "execution_count": 27,
   "metadata": {
    "ExecuteTime": {
     "end_time": "2020-09-23T13:40:08.513100Z",
     "start_time": "2020-09-23T13:40:08.500136Z"
    }
   },
   "outputs": [],
   "source": [
    "class Comparison():\n",
    "    \n",
    "    def __init__(self, input_data, true_data):\n",
    "        self.input_data = input_data\n",
    "        self.true_data = true_data\n",
    "        self.df = self.input_data.merge(self.true_data, how = \"inner\", on = [\"Vehicle_ID\", \"Frame_ID\"], suffixes=[\"_raw\",\"_new\"])\n",
    "        \n",
    "    def MSE_speed(self):\n",
    "        self.df[\"Vel_diff\"] = self.df[\"v_Vel_raw\"] - self.df[\"v_Vel_new\"]\n",
    "        return np.sum(self.df[\"Vel_diff\"] **2)/self.df.shape[0]\n",
    "    \n",
    "    def MSE_acce(self):\n",
    "        self.df[\"Acc_diff\"] = self.df[\"v_Acc_raw\"] - self.df[\"v_Acc_new\"]\n",
    "        return np.sum(self.df[\"Acc_diff\"] **2)/self.df.shape[0]\n",
    "    \n",
    "    def MSE_loc(self):\n",
    "        self.df[\"LocY_diff\"] = self.df[\"Local_Y_raw\"] - self.df[\"Local_Y_new\"]\n",
    "        return np.sum(self.df[\"LocY_diff\"] **2)/self.df.shape[0]\n",
    "    \n",
    "        "
   ]
  },
  {
   "cell_type": "code",
   "execution_count": 28,
   "metadata": {
    "ExecuteTime": {
     "end_time": "2020-09-23T20:09:07.616344Z",
     "start_time": "2020-09-23T20:09:06.818404Z"
    }
   },
   "outputs": [
    {
     "data": {
      "text/plain": [
       "29.968966997236112"
      ]
     },
     "execution_count": 28,
     "metadata": {},
     "output_type": "execute_result"
    }
   ],
   "source": [
    "c = Comparison(raw, new)\n",
    "\n",
    "c.MSE_acce()"
   ]
  },
  {
   "cell_type": "code",
   "execution_count": 29,
   "metadata": {
    "ExecuteTime": {
     "end_time": "2020-09-23T20:09:09.512081Z",
     "start_time": "2020-09-23T20:09:08.957530Z"
    }
   },
   "outputs": [
    {
     "data": {
      "text/plain": [
       "7.979435575881515"
      ]
     },
     "execution_count": 29,
     "metadata": {},
     "output_type": "execute_result"
    }
   ],
   "source": [
    "c.MSE_speed()"
   ]
  },
  {
   "cell_type": "code",
   "execution_count": 30,
   "metadata": {
    "ExecuteTime": {
     "end_time": "2020-09-23T20:09:13.363028Z",
     "start_time": "2020-09-23T20:09:13.331113Z"
    }
   },
   "outputs": [
    {
     "data": {
      "text/plain": [
       "380.28473698268266"
      ]
     },
     "execution_count": 30,
     "metadata": {},
     "output_type": "execute_result"
    }
   ],
   "source": [
    "c.MSE_loc()"
   ]
  },
  {
   "cell_type": "code",
   "execution_count": 31,
   "metadata": {},
   "outputs": [
    {
     "data": {
      "text/plain": [
       "7.979435575881515"
      ]
     },
     "execution_count": 31,
     "metadata": {},
     "output_type": "execute_result"
    }
   ],
   "source": [
    "np.sum((df[\"v_Vel_raw\"] - df[\"v_Vel_new\"]) **2)/df.shape[0]"
   ]
  },
  {
   "cell_type": "code",
   "execution_count": 32,
   "metadata": {},
   "outputs": [
    {
     "data": {
      "text/plain": [
       "29.968966997236112"
      ]
     },
     "execution_count": 32,
     "metadata": {},
     "output_type": "execute_result"
    }
   ],
   "source": [
    "np.sum((df[\"v_Acc_raw\"] - df[\"v_Acc_new\"]) **2)/df.shape[0]"
   ]
  },
  {
   "cell_type": "code",
   "execution_count": 33,
   "metadata": {},
   "outputs": [
    {
     "data": {
      "text/plain": [
       "0         3.807063\n",
       "1         4.284275\n",
       "2         4.432895\n",
       "3         4.329765\n",
       "4         4.157639\n",
       "            ...   \n",
       "196406   -1.679812\n",
       "196407   -0.981169\n",
       "196408    0.445837\n",
       "196409    1.779259\n",
       "196410    2.272420\n",
       "Length: 196411, dtype: float64"
      ]
     },
     "execution_count": 33,
     "metadata": {},
     "output_type": "execute_result"
    }
   ],
   "source": [
    "df[\"v_Vel_raw\"] - df[\"v_Vel_new\"]"
   ]
  },
  {
   "cell_type": "code",
   "execution_count": 34,
   "metadata": {
    "ExecuteTime": {
     "end_time": "2020-09-23T20:12:40.913400Z",
     "start_time": "2020-09-23T20:12:40.366157Z"
    }
   },
   "outputs": [
    {
     "data": {
      "text/plain": [
       "Lane_ID_new\n",
       "1.0    1.696125\n",
       "2.0    0.512742\n",
       "3.0    0.596758\n",
       "4.0    0.362744\n",
       "5.0    0.368192\n",
       "6.0    0.526293\n",
       "9.0    0.454319\n",
       "Name: Vel_diff, dtype: float64"
      ]
     },
     "execution_count": 34,
     "metadata": {},
     "output_type": "execute_result"
    }
   ],
   "source": [
    "df[\"Vel_diff\"] = df[\"v_Vel_raw\"] - df[\"v_Vel_new\"]\n",
    "df.groupby(\"Lane_ID_new\").mean()[\"Vel_diff\"]"
   ]
  },
  {
   "cell_type": "code",
   "execution_count": 35,
   "metadata": {
    "ExecuteTime": {
     "end_time": "2020-09-23T20:17:17.742435Z",
     "start_time": "2020-09-23T20:17:12.201748Z"
    }
   },
   "outputs": [
    {
     "data": {
      "text/plain": [
       "(-6.0, 6.0)"
      ]
     },
     "execution_count": 35,
     "metadata": {},
     "output_type": "execute_result"
    },
    {
     "data": {
      "image/png": "[encoded data removed]",
      "text/plain": [
       "<Figure size 432x288 with 1 Axes>"
      ]
     },
     "metadata": {
      "needs_background": "light"
     },
     "output_type": "display_data"
    }
   ],
   "source": [
    "ax = sns.kdeplot(data = df, x = df[\"Vel_diff\"], hue = \"Lane_ID_new\")\n",
    "ax.set_xlim((-6,6))"
   ]
  },
  {
   "cell_type": "code",
   "execution_count": 36,
   "metadata": {},
   "outputs": [
    {
     "data": {
      "text/html": [
       "<div>\n",
       "<style scoped>\n",
       "    .dataframe tbody tr th:only-of-type {\n",
       "        vertical-align: middle;\n",
       "    }\n",
       "\n",
       "    .dataframe tbody tr th {\n",
       "        vertical-align: top;\n",
       "    }\n",
       "\n",
       "    .dataframe thead th {\n",
       "        text-align: right;\n",
       "    }\n",
       "</style>\n",
       "<table border=\"1\" class=\"dataframe\">\n",
       "  <thead>\n",
       "    <tr style=\"text-align: right;\">\n",
       "      <th></th>\n",
       "      <th>Lane_ID_new</th>\n",
       "      <th>Lane_ID_raw</th>\n",
       "    </tr>\n",
       "  </thead>\n",
       "  <tbody>\n",
       "    <tr>\n",
       "      <th>592</th>\n",
       "      <td>5.0</td>\n",
       "      <td>4.0</td>\n",
       "    </tr>\n",
       "    <tr>\n",
       "      <th>593</th>\n",
       "      <td>5.0</td>\n",
       "      <td>4.0</td>\n",
       "    </tr>\n",
       "    <tr>\n",
       "      <th>594</th>\n",
       "      <td>5.0</td>\n",
       "      <td>4.0</td>\n",
       "    </tr>\n",
       "    <tr>\n",
       "      <th>595</th>\n",
       "      <td>5.0</td>\n",
       "      <td>4.0</td>\n",
       "    </tr>\n",
       "    <tr>\n",
       "      <th>596</th>\n",
       "      <td>5.0</td>\n",
       "      <td>4.0</td>\n",
       "    </tr>\n",
       "    <tr>\n",
       "      <th>...</th>\n",
       "      <td>...</td>\n",
       "      <td>...</td>\n",
       "    </tr>\n",
       "    <tr>\n",
       "      <th>196311</th>\n",
       "      <td>4.0</td>\n",
       "      <td>3.0</td>\n",
       "    </tr>\n",
       "    <tr>\n",
       "      <th>196312</th>\n",
       "      <td>4.0</td>\n",
       "      <td>3.0</td>\n",
       "    </tr>\n",
       "    <tr>\n",
       "      <th>196313</th>\n",
       "      <td>4.0</td>\n",
       "      <td>3.0</td>\n",
       "    </tr>\n",
       "    <tr>\n",
       "      <th>196314</th>\n",
       "      <td>4.0</td>\n",
       "      <td>3.0</td>\n",
       "    </tr>\n",
       "    <tr>\n",
       "      <th>196315</th>\n",
       "      <td>4.0</td>\n",
       "      <td>3.0</td>\n",
       "    </tr>\n",
       "  </tbody>\n",
       "</table>\n",
       "<p>1316 rows × 2 columns</p>\n",
       "</div>"
      ],
      "text/plain": [
       "        Lane_ID_new  Lane_ID_raw\n",
       "592             5.0          4.0\n",
       "593             5.0          4.0\n",
       "594             5.0          4.0\n",
       "595             5.0          4.0\n",
       "596             5.0          4.0\n",
       "...             ...          ...\n",
       "196311          4.0          3.0\n",
       "196312          4.0          3.0\n",
       "196313          4.0          3.0\n",
       "196314          4.0          3.0\n",
       "196315          4.0          3.0\n",
       "\n",
       "[1316 rows x 2 columns]"
      ]
     },
     "execution_count": 36,
     "metadata": {},
     "output_type": "execute_result"
    }
   ],
   "source": [
    "df[df[\"Lane_ID_new\"] != df[\"Lane_ID_raw\"]][[\"Lane_ID_new\", \"Lane_ID_raw\"]]"
   ]
  },
  {
   "cell_type": "code",
   "execution_count": null,
   "metadata": {},
   "outputs": [],
   "source": []
  }
 ],
 "metadata": {
  "kernelspec": {
   "display_name": "Python 3",
   "language": "python",
   "name": "python3"
  },
  "language_info": {
   "codemirror_mode": {
    "name": "ipython",
    "version": 3
   },
   "file_extension": ".py",
   "mimetype": "text/x-python",
   "name": "python",
   "nbconvert_exporter": "python",
   "pygments_lexer": "ipython3",
   "version": "3.8.5"
  },
  "toc": {
   "base_numbering": 1,
   "nav_menu": {},
   "number_sections": true,
   "sideBar": true,
   "skip_h1_title": false,
   "title_cell": "Table of Contents",
   "title_sidebar": "Contents",
   "toc_cell": false,
   "toc_position": {},
   "toc_section_display": true,
   "toc_window_display": false
  },
  "varInspector": {
   "cols": {
    "lenName": 16,
    "lenType": 16,
    "lenVar": 40
   },
   "kernels_config": {
    "python": {
     "delete_cmd_postfix": "",
     "delete_cmd_prefix": "del ",
     "library": "var_list.py",
     "varRefreshCmd": "print(var_dic_list())"
    },
    "r": {
     "delete_cmd_postfix": ") ",
     "delete_cmd_prefix": "rm(",
     "library": "var_list.r",
     "varRefreshCmd": "cat(var_dic_list()) "
    }
   },
   "types_to_exclude": [
    "module",
    "function",
    "builtin_function_or_method",
    "instance",
    "_Feature"
   ],
   "window_display": false
  }
 },
 "nbformat": 4,
 "nbformat_minor": 4
}
