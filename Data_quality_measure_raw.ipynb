{
 "cells": [
  {
   "cell_type": "code",
   "execution_count": 110,
   "metadata": {
    "ExecuteTime": {
     "end_time": "2020-09-23T13:36:48.585526Z",
     "start_time": "2020-09-23T13:36:45.497843Z"
    }
   },
   "outputs": [],
   "source": [
    "import pandas as pd\n",
    "import numpy as np\n",
    "import matplotlib.pyplot as plt\n",
    "import seaborn as sns"
   ]
  },
  {
   "cell_type": "code",
   "execution_count": 111,
   "metadata": {},
   "outputs": [],
   "source": [
    "config = {\n",
    "    \"input_file\": \"data/raw_camera6-0400-0415.csv\",\n",
    "    \"ground_truth_file\": \"data/true_camera6-0400-0415.csv\",\n",
    "    \"input_position\": \"Local_Y\",\n",
    "    \"input_speed\": \"v_Vel\",\n",
    "    \"input_acc\": \"v_Acc\"\n",
    "}"
   ]
  },
  {
   "cell_type": "code",
   "execution_count": 112,
   "metadata": {
    "ExecuteTime": {
     "end_time": "2020-09-23T20:18:17.290424Z",
     "start_time": "2020-09-23T20:18:13.285637Z"
    }
   },
   "outputs": [],
   "source": [
    "df_input_data = pd.read_csv(config['input_file'])\n",
    "df_ground_truth = pd.read_csv(config['ground_truth_file'])"
   ]
  },
  {
   "cell_type": "code",
   "execution_count": 113,
   "metadata": {
    "ExecuteTime": {
     "end_time": "2020-09-23T20:18:20.079462Z",
     "start_time": "2020-09-23T20:18:20.073405Z"
    }
   },
   "outputs": [],
   "source": [
    "df = df_input_data.merge(df_ground_truth, how = \"inner\", on = [\"Vehicle_ID\", \"Frame_ID\"], suffixes=[\"_input\",\"_groud_truth\"])\n",
    "#df.loc[:, df.columns.str.contains(\"Ac\")]\n",
    "#df.loc[:, df.columns.str.contains(\"Local\")].sample(10)\n",
    "#df[(df.Local_Y_raw - df.Local_Y_new) > 30][[\"Local_Y_raw\", \"Local_Y_new\"]]"
   ]
  },
  {
   "cell_type": "code",
   "execution_count": 114,
   "metadata": {},
   "outputs": [
    {
     "data": {
      "text/plain": [
       "count    196411.000000\n",
       "mean         26.207206\n",
       "std          12.904566\n",
       "min           0.000000\n",
       "25%          18.690000\n",
       "50%          25.010000\n",
       "75%          31.260000\n",
       "max          95.300000\n",
       "Name: v_Vel_input, dtype: float64"
      ]
     },
     "execution_count": 114,
     "metadata": {},
     "output_type": "execute_result"
    }
   ],
   "source": [
    "df[config[\"input_speed\"] + \"_input\"].describe() #get stats for speed and acc"
   ]
  },
  {
   "cell_type": "code",
   "execution_count": 115,
   "metadata": {},
   "outputs": [
    {
     "data": {
      "text/plain": [
       "<AxesSubplot:>"
      ]
     },
     "execution_count": 115,
     "metadata": {},
     "output_type": "execute_result"
    },
    {
     "data": {
      "image/png": "[encoded data removed]",
      "text/plain": [
       "<Figure size 432x288 with 1 Axes>"
      ]
     },
     "metadata": {
      "needs_background": "light"
     },
     "output_type": "display_data"
    }
   ],
   "source": [
    "df[config[\"input_speed\"] + \"_input\"].hist(bins=100)"
   ]
  },
  {
   "cell_type": "code",
   "execution_count": 116,
   "metadata": {},
   "outputs": [
    {
     "data": {
      "text/plain": [
       "count    196411.000000\n",
       "mean         -0.092375\n",
       "std           5.428405\n",
       "min         -11.200000\n",
       "25%          -1.030000\n",
       "50%           0.000000\n",
       "75%           0.930000\n",
       "max          11.200000\n",
       "Name: v_Acc_input, dtype: float64"
      ]
     },
     "execution_count": 116,
     "metadata": {},
     "output_type": "execute_result"
    }
   ],
   "source": [
    "df[config[\"input_acc\"] + \"_input\"].describe() #get stats for speed and acc"
   ]
  },
  {
   "cell_type": "code",
   "execution_count": 117,
   "metadata": {},
   "outputs": [
    {
     "data": {
      "text/plain": [
       "<AxesSubplot:>"
      ]
     },
     "execution_count": 117,
     "metadata": {},
     "output_type": "execute_result"
    },
    {
     "data": {
      "image/png": "[encoded data removed]",
      "text/plain": [
       "<Figure size 432x288 with 1 Axes>"
      ]
     },
     "metadata": {
      "needs_background": "light"
     },
     "output_type": "display_data"
    }
   ],
   "source": [
    "df[config[\"input_acc\"] + \"_input\"].clip(-11.2, 11.2).hist(bins=100)"
   ]
  },
  {
   "cell_type": "code",
   "execution_count": null,
   "metadata": {},
   "outputs": [],
   "source": []
  },
  {
   "cell_type": "code",
   "execution_count": 118,
   "metadata": {
    "ExecuteTime": {
     "end_time": "2020-09-23T13:40:08.513100Z",
     "start_time": "2020-09-23T13:40:08.500136Z"
    }
   },
   "outputs": [],
   "source": [
    "class Comparison():\n",
    "    \n",
    "    def __init__(self, input_data, true_data, cfg):\n",
    "        self.config = cfg\n",
    "        self.input_data = input_data\n",
    "        self.true_data = true_data\n",
    "        #raw - input, new - groud_truth\n",
    "        self.df = self.input_data.merge(self.true_data, how = \"inner\", on = [\"Vehicle_ID\", \"Frame_ID\"], suffixes=[\"_input\", \"_groud_truth\"])\n",
    "        \n",
    "    def MSE_speed(self):\n",
    "        name = self.config['input_speed']\n",
    "        self.df[\"Vel_diff\"] = self.df[name + \"_input\"] - self.df[name + \"_groud_truth\"]\n",
    "        return np.sum(self.df[\"Vel_diff\"] ** 2) / self.df.shape[0]\n",
    "    \n",
    "    def MSE_acce(self):\n",
    "        name = self.config['input_acc']\n",
    "        self.df[\"Acc_diff\"] = self.df[name + \"_input\"] - self.df[name + \"_groud_truth\"]\n",
    "        return np.sum(self.df[\"Acc_diff\"] ** 2)/self.df.shape[0]\n",
    "    \n",
    "    def MSE_loc(self):\n",
    "        name = self.config['input_position']\n",
    "        self.df[\"LocY_diff\"] = self.df[name + \"_input\"] - self.df[name + \"_groud_truth\"]\n",
    "        return np.sum(self.df[\"LocY_diff\"] ** 2)/self.df.shape[0]\n",
    "    \n",
    "        "
   ]
  },
  {
   "cell_type": "code",
   "execution_count": 119,
   "metadata": {
    "ExecuteTime": {
     "end_time": "2020-09-23T20:09:07.616344Z",
     "start_time": "2020-09-23T20:09:06.818404Z"
    }
   },
   "outputs": [],
   "source": [
    "c = Comparison(df_input_data, df_ground_truth, config)"
   ]
  },
  {
   "cell_type": "code",
   "execution_count": 120,
   "metadata": {},
   "outputs": [
    {
     "data": {
      "text/plain": [
       "29.968966997236112"
      ]
     },
     "execution_count": 120,
     "metadata": {},
     "output_type": "execute_result"
    }
   ],
   "source": [
    "c.MSE_acce()"
   ]
  },
  {
   "cell_type": "code",
   "execution_count": 121,
   "metadata": {
    "ExecuteTime": {
     "end_time": "2020-09-23T20:09:09.512081Z",
     "start_time": "2020-09-23T20:09:08.957530Z"
    }
   },
   "outputs": [
    {
     "data": {
      "text/plain": [
       "7.979435575881515"
      ]
     },
     "execution_count": 121,
     "metadata": {},
     "output_type": "execute_result"
    }
   ],
   "source": [
    "c.MSE_speed()"
   ]
  },
  {
   "cell_type": "code",
   "execution_count": 122,
   "metadata": {
    "ExecuteTime": {
     "end_time": "2020-09-23T20:09:13.363028Z",
     "start_time": "2020-09-23T20:09:13.331113Z"
    }
   },
   "outputs": [
    {
     "data": {
      "text/plain": [
       "380.28473698268266"
      ]
     },
     "execution_count": 122,
     "metadata": {},
     "output_type": "execute_result"
    }
   ],
   "source": [
    "c.MSE_loc()"
   ]
  },
  {
   "cell_type": "code",
   "execution_count": 123,
   "metadata": {},
   "outputs": [],
   "source": [
    "#np.sum((df[\"v_Vel_input\"] - df[\"v_Vel_groud_truth\"]) **2)/df.shape[0]\n",
    "#np.sum((df[\"v_Acc_input\"] - df[\"v_Acc_groud_truth\"]) **2)/df.shape[0]\n",
    "#df[\"v_Vel_input\"] - df[\"v_Vel_groud_truth\"]"
   ]
  },
  {
   "cell_type": "code",
   "execution_count": 124,
   "metadata": {
    "ExecuteTime": {
     "end_time": "2020-09-23T20:12:40.913400Z",
     "start_time": "2020-09-23T20:12:40.366157Z"
    }
   },
   "outputs": [
    {
     "data": {
      "text/plain": [
       "Lane_ID_groud_truth\n",
       "1.0    1.696125\n",
       "2.0    0.512742\n",
       "3.0    0.596758\n",
       "4.0    0.362744\n",
       "5.0    0.368192\n",
       "6.0    0.526293\n",
       "9.0    0.454319\n",
       "Name: Vel_diff, dtype: float64"
      ]
     },
     "execution_count": 124,
     "metadata": {},
     "output_type": "execute_result"
    }
   ],
   "source": [
    "df[\"Vel_diff\"] = df[\"v_Vel_input\"] - df[\"v_Vel_groud_truth\"]\n",
    "df.groupby(\"Lane_ID_groud_truth\").mean()[\"Vel_diff\"]"
   ]
  },
  {
   "cell_type": "code",
   "execution_count": 125,
   "metadata": {
    "ExecuteTime": {
     "end_time": "2020-09-23T20:17:17.742435Z",
     "start_time": "2020-09-23T20:17:12.201748Z"
    }
   },
   "outputs": [],
   "source": [
    "# ax = sns.kdeplot(data = df, x = df[\"Vel_diff\"], hue = \"Lane_ID_groud_truth\")\n",
    "# ax.set_xlim((-6,6))"
   ]
  },
  {
   "cell_type": "code",
   "execution_count": 126,
   "metadata": {},
   "outputs": [
    {
     "data": {
      "text/html": [
       "<div>\n",
       "<style scoped>\n",
       "    .dataframe tbody tr th:only-of-type {\n",
       "        vertical-align: middle;\n",
       "    }\n",
       "\n",
       "    .dataframe tbody tr th {\n",
       "        vertical-align: top;\n",
       "    }\n",
       "\n",
       "    .dataframe thead th {\n",
       "        text-align: right;\n",
       "    }\n",
       "</style>\n",
       "<table border=\"1\" class=\"dataframe\">\n",
       "  <thead>\n",
       "    <tr style=\"text-align: right;\">\n",
       "      <th></th>\n",
       "      <th>Lane_ID_groud_truth</th>\n",
       "      <th>Lane_ID_input</th>\n",
       "    </tr>\n",
       "  </thead>\n",
       "  <tbody>\n",
       "    <tr>\n",
       "      <th>592</th>\n",
       "      <td>5.0</td>\n",
       "      <td>4.0</td>\n",
       "    </tr>\n",
       "    <tr>\n",
       "      <th>593</th>\n",
       "      <td>5.0</td>\n",
       "      <td>4.0</td>\n",
       "    </tr>\n",
       "    <tr>\n",
       "      <th>594</th>\n",
       "      <td>5.0</td>\n",
       "      <td>4.0</td>\n",
       "    </tr>\n",
       "    <tr>\n",
       "      <th>595</th>\n",
       "      <td>5.0</td>\n",
       "      <td>4.0</td>\n",
       "    </tr>\n",
       "    <tr>\n",
       "      <th>596</th>\n",
       "      <td>5.0</td>\n",
       "      <td>4.0</td>\n",
       "    </tr>\n",
       "    <tr>\n",
       "      <th>...</th>\n",
       "      <td>...</td>\n",
       "      <td>...</td>\n",
       "    </tr>\n",
       "    <tr>\n",
       "      <th>196311</th>\n",
       "      <td>4.0</td>\n",
       "      <td>3.0</td>\n",
       "    </tr>\n",
       "    <tr>\n",
       "      <th>196312</th>\n",
       "      <td>4.0</td>\n",
       "      <td>3.0</td>\n",
       "    </tr>\n",
       "    <tr>\n",
       "      <th>196313</th>\n",
       "      <td>4.0</td>\n",
       "      <td>3.0</td>\n",
       "    </tr>\n",
       "    <tr>\n",
       "      <th>196314</th>\n",
       "      <td>4.0</td>\n",
       "      <td>3.0</td>\n",
       "    </tr>\n",
       "    <tr>\n",
       "      <th>196315</th>\n",
       "      <td>4.0</td>\n",
       "      <td>3.0</td>\n",
       "    </tr>\n",
       "  </tbody>\n",
       "</table>\n",
       "<p>1316 rows × 2 columns</p>\n",
       "</div>"
      ],
      "text/plain": [
       "        Lane_ID_groud_truth  Lane_ID_input\n",
       "592                     5.0            4.0\n",
       "593                     5.0            4.0\n",
       "594                     5.0            4.0\n",
       "595                     5.0            4.0\n",
       "596                     5.0            4.0\n",
       "...                     ...            ...\n",
       "196311                  4.0            3.0\n",
       "196312                  4.0            3.0\n",
       "196313                  4.0            3.0\n",
       "196314                  4.0            3.0\n",
       "196315                  4.0            3.0\n",
       "\n",
       "[1316 rows x 2 columns]"
      ]
     },
     "execution_count": 126,
     "metadata": {},
     "output_type": "execute_result"
    }
   ],
   "source": [
    "df[df[\"Lane_ID_groud_truth\"] != df[\"Lane_ID_input\"]][[\"Lane_ID_groud_truth\", \"Lane_ID_input\"]]"
   ]
  },
  {
   "cell_type": "code",
   "execution_count": null,
   "metadata": {},
   "outputs": [],
   "source": []
  }
 ],
 "metadata": {
  "kernelspec": {
   "display_name": "Python 3",
   "language": "python",
   "name": "python3"
  },
  "language_info": {
   "codemirror_mode": {
    "name": "ipython",
    "version": 3
   },
   "file_extension": ".py",
   "mimetype": "text/x-python",
   "name": "python",
   "nbconvert_exporter": "python",
   "pygments_lexer": "ipython3",
   "version": "3.8.0"
  },
  "toc": {
   "base_numbering": 1,
   "nav_menu": {},
   "number_sections": true,
   "sideBar": true,
   "skip_h1_title": false,
   "title_cell": "Table of Contents",
   "title_sidebar": "Contents",
   "toc_cell": false,
   "toc_position": {},
   "toc_section_display": true,
   "toc_window_display": false
  },
  "varInspector": {
   "cols": {
    "lenName": 16,
    "lenType": 16,
    "lenVar": 40
   },
   "kernels_config": {
    "python": {
     "delete_cmd_postfix": "",
     "delete_cmd_prefix": "del ",
     "library": "var_list.py",
     "varRefreshCmd": "print(var_dic_list())"
    },
    "r": {
     "delete_cmd_postfix": ") ",
     "delete_cmd_prefix": "rm(",
     "library": "var_list.r",
     "varRefreshCmd": "cat(var_dic_list()) "
    }
   },
   "types_to_exclude": [
    "module",
    "function",
    "builtin_function_or_method",
    "instance",
    "_Feature"
   ],
   "window_display": false
  }
 },
 "nbformat": 4,
 "nbformat_minor": 4
}
