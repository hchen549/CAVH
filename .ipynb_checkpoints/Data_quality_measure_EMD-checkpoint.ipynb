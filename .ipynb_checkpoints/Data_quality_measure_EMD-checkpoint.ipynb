{
 "cells": [
  {
   "cell_type": "code",
   "execution_count": 1,
   "metadata": {
    "ExecuteTime": {
     "end_time": "2020-09-23T13:36:48.585526Z",
     "start_time": "2020-09-23T13:36:45.497843Z"
    }
   },
   "outputs": [],
   "source": [
    "import pandas as pd\n",
    "import numpy as np\n",
    "import matplotlib.pyplot as plt\n",
    "import seaborn as sns"
   ]
  },
  {
   "cell_type": "code",
   "execution_count": 2,
   "metadata": {},
   "outputs": [],
   "source": [
    "config = {\n",
    "    \"input_file\": \"data/emd_camera6-0400-0415.csv\",\n",
    "    \"ground_truth_file\": \"data/true_camera6-0400-0415.csv\",\n",
    "    \"input_position\": \"Local_Y\",\n",
    "    \"input_speed\": \"v_Vel\",\n",
    "    \"input_acc\": \"v_Acc\"\n",
    "}"
   ]
  },
  {
   "cell_type": "code",
   "execution_count": 3,
   "metadata": {
    "ExecuteTime": {
     "end_time": "2020-09-23T20:18:17.290424Z",
     "start_time": "2020-09-23T20:18:13.285637Z"
    }
   },
   "outputs": [],
   "source": [
    "df_input_data = pd.read_csv(config['input_file'])\n",
    "df_ground_truth = pd.read_csv(config['ground_truth_file'])"
   ]
  },
  {
   "cell_type": "code",
   "execution_count": 4,
   "metadata": {
    "ExecuteTime": {
     "end_time": "2020-09-23T20:18:20.079462Z",
     "start_time": "2020-09-23T20:18:20.073405Z"
    }
   },
   "outputs": [
    {
     "data": {
      "text/html": [
       "<div>\n",
       "<style scoped>\n",
       "    .dataframe tbody tr th:only-of-type {\n",
       "        vertical-align: middle;\n",
       "    }\n",
       "\n",
       "    .dataframe tbody tr th {\n",
       "        vertical-align: top;\n",
       "    }\n",
       "\n",
       "    .dataframe thead th {\n",
       "        text-align: right;\n",
       "    }\n",
       "</style>\n",
       "<table border=\"1\" class=\"dataframe\">\n",
       "  <thead>\n",
       "    <tr style=\"text-align: right;\">\n",
       "      <th></th>\n",
       "      <th>Vehicle_ID</th>\n",
       "      <th>Frame_ID</th>\n",
       "      <th>Total_Frames_input</th>\n",
       "      <th>Global_Time_input</th>\n",
       "      <th>Local_X_input</th>\n",
       "      <th>Local_Y_input</th>\n",
       "      <th>Global_X_input</th>\n",
       "      <th>Global_Y_input</th>\n",
       "      <th>v_Length_input</th>\n",
       "      <th>v_Width_input</th>\n",
       "      <th>...</th>\n",
       "      <th>v_Length_groud_truth</th>\n",
       "      <th>v_Width_groud_truth</th>\n",
       "      <th>v_Class_groud_truth</th>\n",
       "      <th>v_Vel_groud_truth</th>\n",
       "      <th>v_Acc_groud_truth</th>\n",
       "      <th>Lane_ID_groud_truth</th>\n",
       "      <th>Preceding_groud_truth</th>\n",
       "      <th>Following_groud_truth</th>\n",
       "      <th>Space_Headway_groud_truth</th>\n",
       "      <th>Time_Headway_groud_truth</th>\n",
       "    </tr>\n",
       "  </thead>\n",
       "  <tbody>\n",
       "    <tr>\n",
       "      <th>0</th>\n",
       "      <td>1</td>\n",
       "      <td>743</td>\n",
       "      <td>884</td>\n",
       "      <td>1113433209200</td>\n",
       "      <td>16.753</td>\n",
       "      <td>1245.495231</td>\n",
       "      <td>6042680.296</td>\n",
       "      <td>2134314.235</td>\n",
       "      <td>14.3</td>\n",
       "      <td>6.4</td>\n",
       "      <td>...</td>\n",
       "      <td>0.0</td>\n",
       "      <td>0.0</td>\n",
       "      <td>0.0</td>\n",
       "      <td>18.512937</td>\n",
       "      <td>0.288891</td>\n",
       "      <td>2.0</td>\n",
       "      <td>4227.0</td>\n",
       "      <td>11.0</td>\n",
       "      <td>0.0</td>\n",
       "      <td>0.0</td>\n",
       "    </tr>\n",
       "    <tr>\n",
       "      <th>1</th>\n",
       "      <td>1</td>\n",
       "      <td>744</td>\n",
       "      <td>884</td>\n",
       "      <td>1113433209300</td>\n",
       "      <td>16.710</td>\n",
       "      <td>1247.679194</td>\n",
       "      <td>6042679.875</td>\n",
       "      <td>2134316.505</td>\n",
       "      <td>14.3</td>\n",
       "      <td>6.4</td>\n",
       "      <td>...</td>\n",
       "      <td>0.0</td>\n",
       "      <td>0.0</td>\n",
       "      <td>0.0</td>\n",
       "      <td>18.565725</td>\n",
       "      <td>0.590179</td>\n",
       "      <td>2.0</td>\n",
       "      <td>4227.0</td>\n",
       "      <td>11.0</td>\n",
       "      <td>0.0</td>\n",
       "      <td>0.0</td>\n",
       "    </tr>\n",
       "    <tr>\n",
       "      <th>2</th>\n",
       "      <td>1</td>\n",
       "      <td>745</td>\n",
       "      <td>884</td>\n",
       "      <td>1113433209400</td>\n",
       "      <td>16.654</td>\n",
       "      <td>1249.886385</td>\n",
       "      <td>6042679.438</td>\n",
       "      <td>2134318.792</td>\n",
       "      <td>14.3</td>\n",
       "      <td>6.4</td>\n",
       "      <td>...</td>\n",
       "      <td>0.0</td>\n",
       "      <td>0.0</td>\n",
       "      <td>0.0</td>\n",
       "      <td>18.657105</td>\n",
       "      <td>0.940422</td>\n",
       "      <td>2.0</td>\n",
       "      <td>4227.0</td>\n",
       "      <td>11.0</td>\n",
       "      <td>0.0</td>\n",
       "      <td>0.0</td>\n",
       "    </tr>\n",
       "    <tr>\n",
       "      <th>3</th>\n",
       "      <td>1</td>\n",
       "      <td>746</td>\n",
       "      <td>884</td>\n",
       "      <td>1113433209500</td>\n",
       "      <td>16.597</td>\n",
       "      <td>1252.113038</td>\n",
       "      <td>6042679.004</td>\n",
       "      <td>2134321.060</td>\n",
       "      <td>14.3</td>\n",
       "      <td>6.4</td>\n",
       "      <td>...</td>\n",
       "      <td>0.0</td>\n",
       "      <td>0.0</td>\n",
       "      <td>0.0</td>\n",
       "      <td>18.790235</td>\n",
       "      <td>1.309290</td>\n",
       "      <td>2.0</td>\n",
       "      <td>4227.0</td>\n",
       "      <td>11.0</td>\n",
       "      <td>0.0</td>\n",
       "      <td>0.0</td>\n",
       "    </tr>\n",
       "    <tr>\n",
       "      <th>4</th>\n",
       "      <td>1</td>\n",
       "      <td>747</td>\n",
       "      <td>884</td>\n",
       "      <td>1113433209600</td>\n",
       "      <td>16.543</td>\n",
       "      <td>1254.353656</td>\n",
       "      <td>6042678.572</td>\n",
       "      <td>2134323.329</td>\n",
       "      <td>14.3</td>\n",
       "      <td>6.4</td>\n",
       "      <td>...</td>\n",
       "      <td>0.0</td>\n",
       "      <td>0.0</td>\n",
       "      <td>0.0</td>\n",
       "      <td>18.962361</td>\n",
       "      <td>1.665305</td>\n",
       "      <td>2.0</td>\n",
       "      <td>4227.0</td>\n",
       "      <td>11.0</td>\n",
       "      <td>0.0</td>\n",
       "      <td>0.0</td>\n",
       "    </tr>\n",
       "    <tr>\n",
       "      <th>...</th>\n",
       "      <td>...</td>\n",
       "      <td>...</td>\n",
       "      <td>...</td>\n",
       "      <td>...</td>\n",
       "      <td>...</td>\n",
       "      <td>...</td>\n",
       "      <td>...</td>\n",
       "      <td>...</td>\n",
       "      <td>...</td>\n",
       "      <td>...</td>\n",
       "      <td>...</td>\n",
       "      <td>...</td>\n",
       "      <td>...</td>\n",
       "      <td>...</td>\n",
       "      <td>...</td>\n",
       "      <td>...</td>\n",
       "      <td>...</td>\n",
       "      <td>...</td>\n",
       "      <td>...</td>\n",
       "      <td>...</td>\n",
       "      <td>...</td>\n",
       "    </tr>\n",
       "    <tr>\n",
       "      <th>165821</th>\n",
       "      <td>2911</td>\n",
       "      <td>8580</td>\n",
       "      <td>731</td>\n",
       "      <td>1113433992900</td>\n",
       "      <td>53.480</td>\n",
       "      <td>1474.167803</td>\n",
       "      <td>6042677.905</td>\n",
       "      <td>2134557.131</td>\n",
       "      <td>14.9</td>\n",
       "      <td>5.9</td>\n",
       "      <td>...</td>\n",
       "      <td>0.0</td>\n",
       "      <td>0.0</td>\n",
       "      <td>0.0</td>\n",
       "      <td>28.150327</td>\n",
       "      <td>0.758571</td>\n",
       "      <td>5.0</td>\n",
       "      <td>0.0</td>\n",
       "      <td>2915.0</td>\n",
       "      <td>0.0</td>\n",
       "      <td>0.0</td>\n",
       "    </tr>\n",
       "    <tr>\n",
       "      <th>165822</th>\n",
       "      <td>2911</td>\n",
       "      <td>8581</td>\n",
       "      <td>731</td>\n",
       "      <td>1113433993000</td>\n",
       "      <td>53.507</td>\n",
       "      <td>1477.440617</td>\n",
       "      <td>6042677.428</td>\n",
       "      <td>2134560.220</td>\n",
       "      <td>14.9</td>\n",
       "      <td>5.9</td>\n",
       "      <td>...</td>\n",
       "      <td>0.0</td>\n",
       "      <td>0.0</td>\n",
       "      <td>0.0</td>\n",
       "      <td>28.308314</td>\n",
       "      <td>1.450481</td>\n",
       "      <td>5.0</td>\n",
       "      <td>0.0</td>\n",
       "      <td>2915.0</td>\n",
       "      <td>0.0</td>\n",
       "      <td>0.0</td>\n",
       "    </tr>\n",
       "    <tr>\n",
       "      <th>165823</th>\n",
       "      <td>2911</td>\n",
       "      <td>8582</td>\n",
       "      <td>731</td>\n",
       "      <td>1113433993100</td>\n",
       "      <td>53.533</td>\n",
       "      <td>1480.647927</td>\n",
       "      <td>6042676.950</td>\n",
       "      <td>2134563.310</td>\n",
       "      <td>14.9</td>\n",
       "      <td>5.9</td>\n",
       "      <td>...</td>\n",
       "      <td>0.0</td>\n",
       "      <td>0.0</td>\n",
       "      <td>0.0</td>\n",
       "      <td>28.563724</td>\n",
       "      <td>2.245837</td>\n",
       "      <td>5.0</td>\n",
       "      <td>0.0</td>\n",
       "      <td>2915.0</td>\n",
       "      <td>0.0</td>\n",
       "      <td>0.0</td>\n",
       "    </tr>\n",
       "    <tr>\n",
       "      <th>165824</th>\n",
       "      <td>2911</td>\n",
       "      <td>8583</td>\n",
       "      <td>731</td>\n",
       "      <td>1113433993200</td>\n",
       "      <td>53.560</td>\n",
       "      <td>1483.766345</td>\n",
       "      <td>6042676.473</td>\n",
       "      <td>2134566.399</td>\n",
       "      <td>14.9</td>\n",
       "      <td>5.9</td>\n",
       "      <td>...</td>\n",
       "      <td>0.0</td>\n",
       "      <td>0.0</td>\n",
       "      <td>0.0</td>\n",
       "      <td>28.862277</td>\n",
       "      <td>3.008470</td>\n",
       "      <td>5.0</td>\n",
       "      <td>0.0</td>\n",
       "      <td>2915.0</td>\n",
       "      <td>0.0</td>\n",
       "      <td>0.0</td>\n",
       "    </tr>\n",
       "    <tr>\n",
       "      <th>165825</th>\n",
       "      <td>2911</td>\n",
       "      <td>8584</td>\n",
       "      <td>731</td>\n",
       "      <td>1113433993300</td>\n",
       "      <td>53.586</td>\n",
       "      <td>1486.774837</td>\n",
       "      <td>6042675.995</td>\n",
       "      <td>2134569.489</td>\n",
       "      <td>14.9</td>\n",
       "      <td>5.9</td>\n",
       "      <td>...</td>\n",
       "      <td>0.0</td>\n",
       "      <td>0.0</td>\n",
       "      <td>0.0</td>\n",
       "      <td>29.296867</td>\n",
       "      <td>3.892442</td>\n",
       "      <td>5.0</td>\n",
       "      <td>0.0</td>\n",
       "      <td>2915.0</td>\n",
       "      <td>0.0</td>\n",
       "      <td>0.0</td>\n",
       "    </tr>\n",
       "  </tbody>\n",
       "</table>\n",
       "<p>165826 rows × 34 columns</p>\n",
       "</div>"
      ],
      "text/plain": [
       "        Vehicle_ID  Frame_ID  Total_Frames_input  Global_Time_input  \\\n",
       "0                1       743                 884      1113433209200   \n",
       "1                1       744                 884      1113433209300   \n",
       "2                1       745                 884      1113433209400   \n",
       "3                1       746                 884      1113433209500   \n",
       "4                1       747                 884      1113433209600   \n",
       "...            ...       ...                 ...                ...   \n",
       "165821        2911      8580                 731      1113433992900   \n",
       "165822        2911      8581                 731      1113433993000   \n",
       "165823        2911      8582                 731      1113433993100   \n",
       "165824        2911      8583                 731      1113433993200   \n",
       "165825        2911      8584                 731      1113433993300   \n",
       "\n",
       "        Local_X_input  Local_Y_input  Global_X_input  Global_Y_input  \\\n",
       "0              16.753    1245.495231     6042680.296     2134314.235   \n",
       "1              16.710    1247.679194     6042679.875     2134316.505   \n",
       "2              16.654    1249.886385     6042679.438     2134318.792   \n",
       "3              16.597    1252.113038     6042679.004     2134321.060   \n",
       "4              16.543    1254.353656     6042678.572     2134323.329   \n",
       "...               ...            ...             ...             ...   \n",
       "165821         53.480    1474.167803     6042677.905     2134557.131   \n",
       "165822         53.507    1477.440617     6042677.428     2134560.220   \n",
       "165823         53.533    1480.647927     6042676.950     2134563.310   \n",
       "165824         53.560    1483.766345     6042676.473     2134566.399   \n",
       "165825         53.586    1486.774837     6042675.995     2134569.489   \n",
       "\n",
       "        v_Length_input  v_Width_input  ...  v_Length_groud_truth  \\\n",
       "0                 14.3            6.4  ...                   0.0   \n",
       "1                 14.3            6.4  ...                   0.0   \n",
       "2                 14.3            6.4  ...                   0.0   \n",
       "3                 14.3            6.4  ...                   0.0   \n",
       "4                 14.3            6.4  ...                   0.0   \n",
       "...                ...            ...  ...                   ...   \n",
       "165821            14.9            5.9  ...                   0.0   \n",
       "165822            14.9            5.9  ...                   0.0   \n",
       "165823            14.9            5.9  ...                   0.0   \n",
       "165824            14.9            5.9  ...                   0.0   \n",
       "165825            14.9            5.9  ...                   0.0   \n",
       "\n",
       "        v_Width_groud_truth  v_Class_groud_truth  v_Vel_groud_truth  \\\n",
       "0                       0.0                  0.0          18.512937   \n",
       "1                       0.0                  0.0          18.565725   \n",
       "2                       0.0                  0.0          18.657105   \n",
       "3                       0.0                  0.0          18.790235   \n",
       "4                       0.0                  0.0          18.962361   \n",
       "...                     ...                  ...                ...   \n",
       "165821                  0.0                  0.0          28.150327   \n",
       "165822                  0.0                  0.0          28.308314   \n",
       "165823                  0.0                  0.0          28.563724   \n",
       "165824                  0.0                  0.0          28.862277   \n",
       "165825                  0.0                  0.0          29.296867   \n",
       "\n",
       "        v_Acc_groud_truth  Lane_ID_groud_truth  Preceding_groud_truth  \\\n",
       "0                0.288891                  2.0                 4227.0   \n",
       "1                0.590179                  2.0                 4227.0   \n",
       "2                0.940422                  2.0                 4227.0   \n",
       "3                1.309290                  2.0                 4227.0   \n",
       "4                1.665305                  2.0                 4227.0   \n",
       "...                   ...                  ...                    ...   \n",
       "165821           0.758571                  5.0                    0.0   \n",
       "165822           1.450481                  5.0                    0.0   \n",
       "165823           2.245837                  5.0                    0.0   \n",
       "165824           3.008470                  5.0                    0.0   \n",
       "165825           3.892442                  5.0                    0.0   \n",
       "\n",
       "        Following_groud_truth  Space_Headway_groud_truth  \\\n",
       "0                        11.0                        0.0   \n",
       "1                        11.0                        0.0   \n",
       "2                        11.0                        0.0   \n",
       "3                        11.0                        0.0   \n",
       "4                        11.0                        0.0   \n",
       "...                       ...                        ...   \n",
       "165821                 2915.0                        0.0   \n",
       "165822                 2915.0                        0.0   \n",
       "165823                 2915.0                        0.0   \n",
       "165824                 2915.0                        0.0   \n",
       "165825                 2915.0                        0.0   \n",
       "\n",
       "        Time_Headway_groud_truth  \n",
       "0                            0.0  \n",
       "1                            0.0  \n",
       "2                            0.0  \n",
       "3                            0.0  \n",
       "4                            0.0  \n",
       "...                          ...  \n",
       "165821                       0.0  \n",
       "165822                       0.0  \n",
       "165823                       0.0  \n",
       "165824                       0.0  \n",
       "165825                       0.0  \n",
       "\n",
       "[165826 rows x 34 columns]"
      ]
     },
     "execution_count": 4,
     "metadata": {},
     "output_type": "execute_result"
    }
   ],
   "source": [
    "df = df_input_data.merge(df_ground_truth, how = \"inner\", on = [\"Vehicle_ID\", \"Frame_ID\"], suffixes=[\"_input\",\"_groud_truth\"])\n",
    "#df.loc[:, df.columns.str.contains(\"Ac\")]\n",
    "#df.loc[:, df.columns.str.contains(\"Local\")].sample(10)\n",
    "#df[(df.Local_Y_raw - df.Local_Y_new) > 30][[\"Local_Y_raw\", \"Local_Y_new\"]]\n",
    "df"
   ]
  },
  {
   "cell_type": "code",
   "execution_count": 5,
   "metadata": {},
   "outputs": [
    {
     "data": {
      "text/plain": [
       "count    165826.000000\n",
       "mean         25.835880\n",
       "std          12.844795\n",
       "min           0.000000\n",
       "25%          18.184010\n",
       "50%          24.693887\n",
       "75%          30.789166\n",
       "max          87.316996\n",
       "Name: v_Vel_input, dtype: float64"
      ]
     },
     "execution_count": 5,
     "metadata": {},
     "output_type": "execute_result"
    }
   ],
   "source": [
    "df[config[\"input_speed\"] + \"_input\"].describe() #get stats for speed and acc"
   ]
  },
  {
   "cell_type": "code",
   "execution_count": 6,
   "metadata": {},
   "outputs": [
    {
     "data": {
      "text/plain": [
       "<AxesSubplot:>"
      ]
     },
     "execution_count": 6,
     "metadata": {},
     "output_type": "execute_result"
    },
    {
     "data": {
      "image/png": "[encoded data removed]",
      "text/plain": [
       "<Figure size 432x288 with 1 Axes>"
      ]
     },
     "metadata": {
      "needs_background": "light"
     },
     "output_type": "display_data"
    }
   ],
   "source": [
    "df[config[\"input_speed\"] + \"_input\"].hist(bins=100)"
   ]
  },
  {
   "cell_type": "code",
   "execution_count": 7,
   "metadata": {},
   "outputs": [
    {
     "data": {
      "text/plain": [
       "count    165826.000000\n",
       "mean         -0.109081\n",
       "std           2.431230\n",
       "min         -11.200000\n",
       "25%          -1.321506\n",
       "50%          -0.020640\n",
       "75%           1.099787\n",
       "max          11.200000\n",
       "Name: v_Acc_input, dtype: float64"
      ]
     },
     "execution_count": 7,
     "metadata": {},
     "output_type": "execute_result"
    }
   ],
   "source": [
    "df[config[\"input_acc\"] + \"_input\"].describe() #get stats for speed and acc"
   ]
  },
  {
   "cell_type": "code",
   "execution_count": 8,
   "metadata": {},
   "outputs": [
    {
     "data": {
      "text/plain": [
       "<AxesSubplot:>"
      ]
     },
     "execution_count": 8,
     "metadata": {},
     "output_type": "execute_result"
    },
    {
     "data": {
      "image/png": "[encoded data removed]",
      "text/plain": [
       "<Figure size 432x288 with 1 Axes>"
      ]
     },
     "metadata": {
      "needs_background": "light"
     },
     "output_type": "display_data"
    }
   ],
   "source": [
    "df[config[\"input_acc\"] + \"_input\"].clip(-11.2, 11.2).hist(bins=100)"
   ]
  },
  {
   "cell_type": "code",
   "execution_count": 33,
   "metadata": {},
   "outputs": [
    {
     "data": {
      "text/html": [
       "<div>\n",
       "<style scoped>\n",
       "    .dataframe tbody tr th:only-of-type {\n",
       "        vertical-align: middle;\n",
       "    }\n",
       "\n",
       "    .dataframe tbody tr th {\n",
       "        vertical-align: top;\n",
       "    }\n",
       "\n",
       "    .dataframe thead th {\n",
       "        text-align: right;\n",
       "    }\n",
       "</style>\n",
       "<table border=\"1\" class=\"dataframe\">\n",
       "  <thead>\n",
       "    <tr style=\"text-align: right;\">\n",
       "      <th></th>\n",
       "      <th>Local_Y_input</th>\n",
       "      <th>Local_Y_groud_truth</th>\n",
       "    </tr>\n",
       "  </thead>\n",
       "  <tbody>\n",
       "    <tr>\n",
       "      <th>0</th>\n",
       "      <td>1245.495231</td>\n",
       "      <td>1244.45</td>\n",
       "    </tr>\n",
       "    <tr>\n",
       "      <th>1</th>\n",
       "      <td>1247.679194</td>\n",
       "      <td>1246.30</td>\n",
       "    </tr>\n",
       "    <tr>\n",
       "      <th>2</th>\n",
       "      <td>1249.886385</td>\n",
       "      <td>1248.17</td>\n",
       "    </tr>\n",
       "    <tr>\n",
       "      <th>3</th>\n",
       "      <td>1252.113038</td>\n",
       "      <td>1250.05</td>\n",
       "    </tr>\n",
       "    <tr>\n",
       "      <th>4</th>\n",
       "      <td>1254.353656</td>\n",
       "      <td>1251.95</td>\n",
       "    </tr>\n",
       "    <tr>\n",
       "      <th>...</th>\n",
       "      <td>...</td>\n",
       "      <td>...</td>\n",
       "    </tr>\n",
       "    <tr>\n",
       "      <th>165821</th>\n",
       "      <td>1474.167803</td>\n",
       "      <td>1475.75</td>\n",
       "    </tr>\n",
       "    <tr>\n",
       "      <th>165822</th>\n",
       "      <td>1477.440617</td>\n",
       "      <td>1478.58</td>\n",
       "    </tr>\n",
       "    <tr>\n",
       "      <th>165823</th>\n",
       "      <td>1480.647927</td>\n",
       "      <td>1481.43</td>\n",
       "    </tr>\n",
       "    <tr>\n",
       "      <th>165824</th>\n",
       "      <td>1483.766345</td>\n",
       "      <td>1484.30</td>\n",
       "    </tr>\n",
       "    <tr>\n",
       "      <th>165825</th>\n",
       "      <td>1486.774837</td>\n",
       "      <td>1487.21</td>\n",
       "    </tr>\n",
       "  </tbody>\n",
       "</table>\n",
       "<p>165826 rows × 2 columns</p>\n",
       "</div>"
      ],
      "text/plain": [
       "        Local_Y_input  Local_Y_groud_truth\n",
       "0         1245.495231              1244.45\n",
       "1         1247.679194              1246.30\n",
       "2         1249.886385              1248.17\n",
       "3         1252.113038              1250.05\n",
       "4         1254.353656              1251.95\n",
       "...               ...                  ...\n",
       "165821    1474.167803              1475.75\n",
       "165822    1477.440617              1478.58\n",
       "165823    1480.647927              1481.43\n",
       "165824    1483.766345              1484.30\n",
       "165825    1486.774837              1487.21\n",
       "\n",
       "[165826 rows x 2 columns]"
      ]
     },
     "execution_count": 33,
     "metadata": {},
     "output_type": "execute_result"
    }
   ],
   "source": [
    "# df.columns.str.contains(\"Length\")\n",
    "# Local_Y\n",
    "df.loc[:,df.columns.str.contains(\"Local_Y\")]\n"
   ]
  },
  {
   "cell_type": "code",
   "execution_count": 31,
   "metadata": {},
   "outputs": [
    {
     "data": {
      "text/html": [
       "<div>\n",
       "<style scoped>\n",
       "    .dataframe tbody tr th:only-of-type {\n",
       "        vertical-align: middle;\n",
       "    }\n",
       "\n",
       "    .dataframe tbody tr th {\n",
       "        vertical-align: top;\n",
       "    }\n",
       "\n",
       "    .dataframe thead th {\n",
       "        text-align: right;\n",
       "    }\n",
       "</style>\n",
       "<table border=\"1\" class=\"dataframe\">\n",
       "  <thead>\n",
       "    <tr style=\"text-align: right;\">\n",
       "      <th></th>\n",
       "      <th>v_Length_input</th>\n",
       "      <th>v_Length_groud_truth</th>\n",
       "    </tr>\n",
       "  </thead>\n",
       "  <tbody>\n",
       "    <tr>\n",
       "      <th>0</th>\n",
       "      <td>14.3</td>\n",
       "      <td>0.0</td>\n",
       "    </tr>\n",
       "    <tr>\n",
       "      <th>1</th>\n",
       "      <td>14.3</td>\n",
       "      <td>0.0</td>\n",
       "    </tr>\n",
       "    <tr>\n",
       "      <th>2</th>\n",
       "      <td>14.3</td>\n",
       "      <td>0.0</td>\n",
       "    </tr>\n",
       "    <tr>\n",
       "      <th>3</th>\n",
       "      <td>14.3</td>\n",
       "      <td>0.0</td>\n",
       "    </tr>\n",
       "    <tr>\n",
       "      <th>4</th>\n",
       "      <td>14.3</td>\n",
       "      <td>0.0</td>\n",
       "    </tr>\n",
       "    <tr>\n",
       "      <th>...</th>\n",
       "      <td>...</td>\n",
       "      <td>...</td>\n",
       "    </tr>\n",
       "    <tr>\n",
       "      <th>165821</th>\n",
       "      <td>14.9</td>\n",
       "      <td>0.0</td>\n",
       "    </tr>\n",
       "    <tr>\n",
       "      <th>165822</th>\n",
       "      <td>14.9</td>\n",
       "      <td>0.0</td>\n",
       "    </tr>\n",
       "    <tr>\n",
       "      <th>165823</th>\n",
       "      <td>14.9</td>\n",
       "      <td>0.0</td>\n",
       "    </tr>\n",
       "    <tr>\n",
       "      <th>165824</th>\n",
       "      <td>14.9</td>\n",
       "      <td>0.0</td>\n",
       "    </tr>\n",
       "    <tr>\n",
       "      <th>165825</th>\n",
       "      <td>14.9</td>\n",
       "      <td>0.0</td>\n",
       "    </tr>\n",
       "  </tbody>\n",
       "</table>\n",
       "<p>165826 rows × 2 columns</p>\n",
       "</div>"
      ],
      "text/plain": [
       "        v_Length_input  v_Length_groud_truth\n",
       "0                 14.3                   0.0\n",
       "1                 14.3                   0.0\n",
       "2                 14.3                   0.0\n",
       "3                 14.3                   0.0\n",
       "4                 14.3                   0.0\n",
       "...                ...                   ...\n",
       "165821            14.9                   0.0\n",
       "165822            14.9                   0.0\n",
       "165823            14.9                   0.0\n",
       "165824            14.9                   0.0\n",
       "165825            14.9                   0.0\n",
       "\n",
       "[165826 rows x 2 columns]"
      ]
     },
     "execution_count": 31,
     "metadata": {},
     "output_type": "execute_result"
    }
   ],
   "source": [
    "df.loc[:,df.columns.str.contains(\"v_Length\")]\n"
   ]
  },
  {
   "cell_type": "code",
   "execution_count": 34,
   "metadata": {
    "ExecuteTime": {
     "end_time": "2020-09-23T13:40:08.513100Z",
     "start_time": "2020-09-23T13:40:08.500136Z"
    }
   },
   "outputs": [],
   "source": [
    "class Comparison():\n",
    "    \n",
    "    def __init__(self, input_data, true_data, cfg):\n",
    "        self.config = cfg\n",
    "        self.input_data = input_data\n",
    "        self.true_data = true_data\n",
    "        #raw - input, new - groud_truth\n",
    "        self.df = self.input_data.merge(self.true_data, how = \"inner\", on = [\"Vehicle_ID\", \"Frame_ID\"], suffixes=[\"_input\", \"_groud_truth\"])\n",
    "        \n",
    "    def MSE_speed(self):\n",
    "        name = self.config['input_speed']\n",
    "        self.df[\"Vel_diff\"] = self.df[name + \"_input\"] - self.df[name + \"_groud_truth\"]\n",
    "        return np.sum(self.df[\"Vel_diff\"] ** 2) / self.df.shape[0]\n",
    "    \n",
    "    def MSE_acce(self):\n",
    "        name = self.config['input_acc']\n",
    "        self.df[\"Acc_diff\"] = self.df[name + \"_input\"] - self.df[name + \"_groud_truth\"]\n",
    "        return np.sum(self.df[\"Acc_diff\"] ** 2)/self.df.shape[0]\n",
    "    \n",
    "    def MSE_loc(self):\n",
    "        name = self.config['input_position']\n",
    "        self.df[\"LocY_diff\"] = self.df[name + \"_input\"] - self.df[name + \"_groud_truth\"] \n",
    "        return np.sum(self.df[\"LocY_diff\"] ** 2)/self.df.shape[0]\n",
    "    \n",
    "    \n",
    "        "
   ]
  },
  {
   "cell_type": "code",
   "execution_count": 35,
   "metadata": {
    "ExecuteTime": {
     "end_time": "2020-09-23T20:09:07.616344Z",
     "start_time": "2020-09-23T20:09:06.818404Z"
    }
   },
   "outputs": [],
   "source": [
    "c = Comparison(df_input_data, df_ground_truth, config)"
   ]
  },
  {
   "cell_type": "code",
   "execution_count": 36,
   "metadata": {},
   "outputs": [
    {
     "data": {
      "text/plain": [
       "4.1558570700974835"
      ]
     },
     "execution_count": 36,
     "metadata": {},
     "output_type": "execute_result"
    }
   ],
   "source": [
    "c.MSE_acce()"
   ]
  },
  {
   "cell_type": "code",
   "execution_count": 37,
   "metadata": {
    "ExecuteTime": {
     "end_time": "2020-09-23T20:09:09.512081Z",
     "start_time": "2020-09-23T20:09:08.957530Z"
    }
   },
   "outputs": [
    {
     "data": {
      "text/plain": [
       "4.078715309585185"
      ]
     },
     "execution_count": 37,
     "metadata": {},
     "output_type": "execute_result"
    }
   ],
   "source": [
    "c.MSE_speed()"
   ]
  },
  {
   "cell_type": "code",
   "execution_count": 38,
   "metadata": {
    "ExecuteTime": {
     "end_time": "2020-09-23T20:09:13.363028Z",
     "start_time": "2020-09-23T20:09:13.331113Z"
    }
   },
   "outputs": [
    {
     "data": {
      "text/plain": [
       "157.89027034208095"
      ]
     },
     "execution_count": 38,
     "metadata": {},
     "output_type": "execute_result"
    }
   ],
   "source": [
    "c.MSE_loc()"
   ]
  },
  {
   "cell_type": "code",
   "execution_count": 14,
   "metadata": {},
   "outputs": [],
   "source": [
    "#np.sum((df[\"v_Vel_input\"] - df[\"v_Vel_groud_truth\"]) **2)/df.shape[0]\n",
    "#np.sum((df[\"v_Acc_input\"] - df[\"v_Acc_groud_truth\"]) **2)/df.shape[0]\n",
    "#df[\"v_Vel_input\"] - df[\"v_Vel_groud_truth\"]"
   ]
  },
  {
   "cell_type": "code",
   "execution_count": 15,
   "metadata": {
    "ExecuteTime": {
     "end_time": "2020-09-23T20:12:40.913400Z",
     "start_time": "2020-09-23T20:12:40.366157Z"
    }
   },
   "outputs": [
    {
     "data": {
      "text/plain": [
       "Lane_ID_groud_truth\n",
       "1.0    1.088493\n",
       "2.0    0.308409\n",
       "3.0    0.374690\n",
       "4.0    0.171502\n",
       "5.0    0.154193\n",
       "6.0    0.221720\n",
       "9.0    0.772118\n",
       "Name: Vel_diff, dtype: float64"
      ]
     },
     "execution_count": 15,
     "metadata": {},
     "output_type": "execute_result"
    }
   ],
   "source": [
    "df[\"Vel_diff\"] = df[\"v_Vel_input\"] - df[\"v_Vel_groud_truth\"]\n",
    "df.groupby(\"Lane_ID_groud_truth\").mean()[\"Vel_diff\"]"
   ]
  },
  {
   "cell_type": "code",
   "execution_count": 16,
   "metadata": {
    "ExecuteTime": {
     "end_time": "2020-09-23T20:17:17.742435Z",
     "start_time": "2020-09-23T20:17:12.201748Z"
    }
   },
   "outputs": [],
   "source": [
    "# ax = sns.kdeplot(data = df, x = df[\"Vel_diff\"], hue = \"Lane_ID_groud_truth\")\n",
    "# ax.set_xlim((-6,6))"
   ]
  },
  {
   "cell_type": "code",
   "execution_count": 17,
   "metadata": {},
   "outputs": [
    {
     "data": {
      "text/html": [
       "<div>\n",
       "<style scoped>\n",
       "    .dataframe tbody tr th:only-of-type {\n",
       "        vertical-align: middle;\n",
       "    }\n",
       "\n",
       "    .dataframe tbody tr th {\n",
       "        vertical-align: top;\n",
       "    }\n",
       "\n",
       "    .dataframe thead th {\n",
       "        text-align: right;\n",
       "    }\n",
       "</style>\n",
       "<table border=\"1\" class=\"dataframe\">\n",
       "  <thead>\n",
       "    <tr style=\"text-align: right;\">\n",
       "      <th></th>\n",
       "      <th>Lane_ID_groud_truth</th>\n",
       "      <th>Lane_ID_input</th>\n",
       "    </tr>\n",
       "  </thead>\n",
       "  <tbody>\n",
       "    <tr>\n",
       "      <th>592</th>\n",
       "      <td>5.0</td>\n",
       "      <td>4</td>\n",
       "    </tr>\n",
       "    <tr>\n",
       "      <th>593</th>\n",
       "      <td>5.0</td>\n",
       "      <td>4</td>\n",
       "    </tr>\n",
       "    <tr>\n",
       "      <th>594</th>\n",
       "      <td>5.0</td>\n",
       "      <td>4</td>\n",
       "    </tr>\n",
       "    <tr>\n",
       "      <th>595</th>\n",
       "      <td>5.0</td>\n",
       "      <td>4</td>\n",
       "    </tr>\n",
       "    <tr>\n",
       "      <th>596</th>\n",
       "      <td>5.0</td>\n",
       "      <td>4</td>\n",
       "    </tr>\n",
       "    <tr>\n",
       "      <th>...</th>\n",
       "      <td>...</td>\n",
       "      <td>...</td>\n",
       "    </tr>\n",
       "    <tr>\n",
       "      <th>164353</th>\n",
       "      <td>9.0</td>\n",
       "      <td>6</td>\n",
       "    </tr>\n",
       "    <tr>\n",
       "      <th>164354</th>\n",
       "      <td>9.0</td>\n",
       "      <td>6</td>\n",
       "    </tr>\n",
       "    <tr>\n",
       "      <th>164355</th>\n",
       "      <td>9.0</td>\n",
       "      <td>6</td>\n",
       "    </tr>\n",
       "    <tr>\n",
       "      <th>165232</th>\n",
       "      <td>3.0</td>\n",
       "      <td>2</td>\n",
       "    </tr>\n",
       "    <tr>\n",
       "      <th>165233</th>\n",
       "      <td>3.0</td>\n",
       "      <td>2</td>\n",
       "    </tr>\n",
       "  </tbody>\n",
       "</table>\n",
       "<p>1093 rows × 2 columns</p>\n",
       "</div>"
      ],
      "text/plain": [
       "        Lane_ID_groud_truth  Lane_ID_input\n",
       "592                     5.0              4\n",
       "593                     5.0              4\n",
       "594                     5.0              4\n",
       "595                     5.0              4\n",
       "596                     5.0              4\n",
       "...                     ...            ...\n",
       "164353                  9.0              6\n",
       "164354                  9.0              6\n",
       "164355                  9.0              6\n",
       "165232                  3.0              2\n",
       "165233                  3.0              2\n",
       "\n",
       "[1093 rows x 2 columns]"
      ]
     },
     "execution_count": 17,
     "metadata": {},
     "output_type": "execute_result"
    }
   ],
   "source": [
    "df[df[\"Lane_ID_groud_truth\"] != df[\"Lane_ID_input\"]][[\"Lane_ID_groud_truth\", \"Lane_ID_input\"]]"
   ]
  },
  {
   "cell_type": "code",
   "execution_count": null,
   "metadata": {},
   "outputs": [],
   "source": []
  }
 ],
 "metadata": {
  "kernelspec": {
   "display_name": "Python 3",
   "language": "python",
   "name": "python3"
  },
  "language_info": {
   "codemirror_mode": {
    "name": "ipython",
    "version": 3
   },
   "file_extension": ".py",
   "mimetype": "text/x-python",
   "name": "python",
   "nbconvert_exporter": "python",
   "pygments_lexer": "ipython3",
   "version": "3.8.5"
  },
  "toc": {
   "base_numbering": 1,
   "nav_menu": {},
   "number_sections": true,
   "sideBar": true,
   "skip_h1_title": false,
   "title_cell": "Table of Contents",
   "title_sidebar": "Contents",
   "toc_cell": false,
   "toc_position": {},
   "toc_section_display": true,
   "toc_window_display": false
  },
  "varInspector": {
   "cols": {
    "lenName": 16,
    "lenType": 16,
    "lenVar": 40
   },
   "kernels_config": {
    "python": {
     "delete_cmd_postfix": "",
     "delete_cmd_prefix": "del ",
     "library": "var_list.py",
     "varRefreshCmd": "print(var_dic_list())"
    },
    "r": {
     "delete_cmd_postfix": ") ",
     "delete_cmd_prefix": "rm(",
     "library": "var_list.r",
     "varRefreshCmd": "cat(var_dic_list()) "
    }
   },
   "types_to_exclude": [
    "module",
    "function",
    "builtin_function_or_method",
    "instance",
    "_Feature"
   ],
   "window_display": false
  }
 },
 "nbformat": 4,
 "nbformat_minor": 4
}
