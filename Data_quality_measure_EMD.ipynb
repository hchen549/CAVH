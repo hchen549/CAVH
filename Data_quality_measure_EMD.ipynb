{
 "cells": [
  {
   "cell_type": "code",
   "execution_count": 1,
   "metadata": {
    "ExecuteTime": {
     "end_time": "2020-09-23T13:36:48.585526Z",
     "start_time": "2020-09-23T13:36:45.497843Z"
    }
   },
   "outputs": [],
   "source": [
    "import pandas as pd\n",
    "import numpy as np\n",
    "import matplotlib.pyplot as plt\n",
    "import seaborn as sns"
   ]
  },
  {
   "cell_type": "code",
   "execution_count": 2,
   "metadata": {},
   "outputs": [],
   "source": [
    "config = {\n",
    "    \"input_file\": \"data/EMD_Reconstructed(i-80 0400-0415) 10042020.csv\",\n",
    "    \"ground_truth_file\": \"data/true_camera6-0400-0415.csv\",\n",
    "    \"input_position\": \"Local_Y\",\n",
    "    \"input_speed\": \"v_Vel\",\n",
    "    \"input_acc\": \"v_Acc\"\n",
    "}"
   ]
  },
  {
   "cell_type": "code",
   "execution_count": 3,
   "metadata": {
    "ExecuteTime": {
     "end_time": "2020-09-23T20:18:17.290424Z",
     "start_time": "2020-09-23T20:18:13.285637Z"
    }
   },
   "outputs": [],
   "source": [
    "df_input_data = pd.read_csv(config['input_file'])\n",
    "df_ground_truth = pd.read_csv(config['ground_truth_file'])"
   ]
  },
  {
   "cell_type": "code",
   "execution_count": 4,
   "metadata": {},
   "outputs": [],
   "source": [
    "#df_input_data"
   ]
  },
  {
   "cell_type": "code",
   "execution_count": 5,
   "metadata": {
    "ExecuteTime": {
     "end_time": "2020-09-23T20:18:20.079462Z",
     "start_time": "2020-09-23T20:18:20.073405Z"
    }
   },
   "outputs": [],
   "source": [
    "df = df_input_data.merge(df_ground_truth, how = \"inner\", on = [\"Vehicle_ID\", \"Frame_ID\"], suffixes=[\"_input\",\"_groud_truth\"])\n",
    "#df.loc[:, df.columns.str.contains(\"Ac\")]\n",
    "#df.loc[:, df.columns.str.contains(\"Local\")].sample(10)\n",
    "#df[(df.Local_Y_raw - df.Local_Y_new) > 30][[\"Local_Y_raw\", \"Local_Y_new\"]]\n",
    "#df"
   ]
  },
  {
   "cell_type": "code",
   "execution_count": 6,
   "metadata": {},
   "outputs": [
    {
     "data": {
      "text/plain": [
       "count    165826.000000\n",
       "mean         26.031882\n",
       "std          12.999750\n",
       "min           0.000000\n",
       "25%          18.295035\n",
       "50%          24.738095\n",
       "75%          30.861491\n",
       "max          92.001731\n",
       "Name: v_Vel_input, dtype: float64"
      ]
     },
     "execution_count": 6,
     "metadata": {},
     "output_type": "execute_result"
    }
   ],
   "source": [
    "df[config[\"input_speed\"] + \"_input\"].describe() #get stats for speed and acc"
   ]
  },
  {
   "cell_type": "code",
   "execution_count": 7,
   "metadata": {},
   "outputs": [
    {
     "data": {
      "text/plain": [
       "<AxesSubplot:>"
      ]
     },
     "execution_count": 7,
     "metadata": {},
     "output_type": "execute_result"
    },
    {
     "data": {
      "image/png": "[encoded data removed]",
      "text/plain": [
       "<Figure size 432x288 with 1 Axes>"
      ]
     },
     "metadata": {
      "needs_background": "light"
     },
     "output_type": "display_data"
    }
   ],
   "source": [
    "df[config[\"input_speed\"] + \"_input\"].hist(bins=100)"
   ]
  },
  {
   "cell_type": "code",
   "execution_count": 8,
   "metadata": {},
   "outputs": [
    {
     "data": {
      "text/plain": [
       "count    165826.000000\n",
       "mean          0.038542\n",
       "std           1.889367\n",
       "min         -11.200000\n",
       "25%          -0.973328\n",
       "50%           0.012048\n",
       "75%           1.043674\n",
       "max          11.200000\n",
       "Name: v_Acc_input, dtype: float64"
      ]
     },
     "execution_count": 8,
     "metadata": {},
     "output_type": "execute_result"
    }
   ],
   "source": [
    "df[config[\"input_acc\"] + \"_input\"].describe() #get stats for speed and acc"
   ]
  },
  {
   "cell_type": "code",
   "execution_count": 21,
   "metadata": {},
   "outputs": [
    {
     "data": {
      "text/plain": [
       "<AxesSubplot:>"
      ]
     },
     "execution_count": 21,
     "metadata": {},
     "output_type": "execute_result"
    },
    {
     "data": {
      "image/png": "[encoded data removed]",
      "text/plain": [
       "<Figure size 432x288 with 1 Axes>"
      ]
     },
     "metadata": {
      "needs_background": "light"
     },
     "output_type": "display_data"
    }
   ],
   "source": [
    "df[config[\"input_acc\"] + \"_input\"].hist(bins=100)"
   ]
  },
  {
   "cell_type": "code",
   "execution_count": 10,
   "metadata": {},
   "outputs": [
    {
     "data": {
      "text/html": [
       "<div>\n",
       "<style scoped>\n",
       "    .dataframe tbody tr th:only-of-type {\n",
       "        vertical-align: middle;\n",
       "    }\n",
       "\n",
       "    .dataframe tbody tr th {\n",
       "        vertical-align: top;\n",
       "    }\n",
       "\n",
       "    .dataframe thead th {\n",
       "        text-align: right;\n",
       "    }\n",
       "</style>\n",
       "<table border=\"1\" class=\"dataframe\">\n",
       "  <thead>\n",
       "    <tr style=\"text-align: right;\">\n",
       "      <th></th>\n",
       "      <th>Local_Y_input</th>\n",
       "      <th>Local_Y_groud_truth</th>\n",
       "    </tr>\n",
       "  </thead>\n",
       "  <tbody>\n",
       "    <tr>\n",
       "      <th>0</th>\n",
       "      <td>1256.239992</td>\n",
       "      <td>1244.45</td>\n",
       "    </tr>\n",
       "    <tr>\n",
       "      <th>1</th>\n",
       "      <td>1258.358435</td>\n",
       "      <td>1246.30</td>\n",
       "    </tr>\n",
       "    <tr>\n",
       "      <th>2</th>\n",
       "      <td>1260.494065</td>\n",
       "      <td>1248.17</td>\n",
       "    </tr>\n",
       "    <tr>\n",
       "      <th>3</th>\n",
       "      <td>1262.643210</td>\n",
       "      <td>1250.05</td>\n",
       "    </tr>\n",
       "    <tr>\n",
       "      <th>4</th>\n",
       "      <td>1264.803394</td>\n",
       "      <td>1251.95</td>\n",
       "    </tr>\n",
       "    <tr>\n",
       "      <th>...</th>\n",
       "      <td>...</td>\n",
       "      <td>...</td>\n",
       "    </tr>\n",
       "    <tr>\n",
       "      <th>165821</th>\n",
       "      <td>1496.329146</td>\n",
       "      <td>1475.75</td>\n",
       "    </tr>\n",
       "    <tr>\n",
       "      <th>165822</th>\n",
       "      <td>1498.940306</td>\n",
       "      <td>1478.58</td>\n",
       "    </tr>\n",
       "    <tr>\n",
       "      <th>165823</th>\n",
       "      <td>1501.471981</td>\n",
       "      <td>1481.43</td>\n",
       "    </tr>\n",
       "    <tr>\n",
       "      <th>165824</th>\n",
       "      <td>1503.922664</td>\n",
       "      <td>1484.30</td>\n",
       "    </tr>\n",
       "    <tr>\n",
       "      <th>165825</th>\n",
       "      <td>1506.287969</td>\n",
       "      <td>1487.21</td>\n",
       "    </tr>\n",
       "  </tbody>\n",
       "</table>\n",
       "<p>165826 rows × 2 columns</p>\n",
       "</div>"
      ],
      "text/plain": [
       "        Local_Y_input  Local_Y_groud_truth\n",
       "0         1256.239992              1244.45\n",
       "1         1258.358435              1246.30\n",
       "2         1260.494065              1248.17\n",
       "3         1262.643210              1250.05\n",
       "4         1264.803394              1251.95\n",
       "...               ...                  ...\n",
       "165821    1496.329146              1475.75\n",
       "165822    1498.940306              1478.58\n",
       "165823    1501.471981              1481.43\n",
       "165824    1503.922664              1484.30\n",
       "165825    1506.287969              1487.21\n",
       "\n",
       "[165826 rows x 2 columns]"
      ]
     },
     "execution_count": 10,
     "metadata": {},
     "output_type": "execute_result"
    }
   ],
   "source": [
    "# df.columns.str.contains(\"Length\")\n",
    "# Local_Y\n",
    "# df.loc[:,df.columns.str.contains(\"Local_Y\")]\n"
   ]
  },
  {
   "cell_type": "code",
   "execution_count": 11,
   "metadata": {},
   "outputs": [
    {
     "data": {
      "text/html": [
       "<div>\n",
       "<style scoped>\n",
       "    .dataframe tbody tr th:only-of-type {\n",
       "        vertical-align: middle;\n",
       "    }\n",
       "\n",
       "    .dataframe tbody tr th {\n",
       "        vertical-align: top;\n",
       "    }\n",
       "\n",
       "    .dataframe thead th {\n",
       "        text-align: right;\n",
       "    }\n",
       "</style>\n",
       "<table border=\"1\" class=\"dataframe\">\n",
       "  <thead>\n",
       "    <tr style=\"text-align: right;\">\n",
       "      <th></th>\n",
       "      <th>v_Length_input</th>\n",
       "      <th>v_Length_groud_truth</th>\n",
       "    </tr>\n",
       "  </thead>\n",
       "  <tbody>\n",
       "    <tr>\n",
       "      <th>0</th>\n",
       "      <td>14.3</td>\n",
       "      <td>0.0</td>\n",
       "    </tr>\n",
       "    <tr>\n",
       "      <th>1</th>\n",
       "      <td>14.3</td>\n",
       "      <td>0.0</td>\n",
       "    </tr>\n",
       "    <tr>\n",
       "      <th>2</th>\n",
       "      <td>14.3</td>\n",
       "      <td>0.0</td>\n",
       "    </tr>\n",
       "    <tr>\n",
       "      <th>3</th>\n",
       "      <td>14.3</td>\n",
       "      <td>0.0</td>\n",
       "    </tr>\n",
       "    <tr>\n",
       "      <th>4</th>\n",
       "      <td>14.3</td>\n",
       "      <td>0.0</td>\n",
       "    </tr>\n",
       "    <tr>\n",
       "      <th>...</th>\n",
       "      <td>...</td>\n",
       "      <td>...</td>\n",
       "    </tr>\n",
       "    <tr>\n",
       "      <th>165821</th>\n",
       "      <td>14.9</td>\n",
       "      <td>0.0</td>\n",
       "    </tr>\n",
       "    <tr>\n",
       "      <th>165822</th>\n",
       "      <td>14.9</td>\n",
       "      <td>0.0</td>\n",
       "    </tr>\n",
       "    <tr>\n",
       "      <th>165823</th>\n",
       "      <td>14.9</td>\n",
       "      <td>0.0</td>\n",
       "    </tr>\n",
       "    <tr>\n",
       "      <th>165824</th>\n",
       "      <td>14.9</td>\n",
       "      <td>0.0</td>\n",
       "    </tr>\n",
       "    <tr>\n",
       "      <th>165825</th>\n",
       "      <td>14.9</td>\n",
       "      <td>0.0</td>\n",
       "    </tr>\n",
       "  </tbody>\n",
       "</table>\n",
       "<p>165826 rows × 2 columns</p>\n",
       "</div>"
      ],
      "text/plain": [
       "        v_Length_input  v_Length_groud_truth\n",
       "0                 14.3                   0.0\n",
       "1                 14.3                   0.0\n",
       "2                 14.3                   0.0\n",
       "3                 14.3                   0.0\n",
       "4                 14.3                   0.0\n",
       "...                ...                   ...\n",
       "165821            14.9                   0.0\n",
       "165822            14.9                   0.0\n",
       "165823            14.9                   0.0\n",
       "165824            14.9                   0.0\n",
       "165825            14.9                   0.0\n",
       "\n",
       "[165826 rows x 2 columns]"
      ]
     },
     "execution_count": 11,
     "metadata": {},
     "output_type": "execute_result"
    }
   ],
   "source": [
    "# df.loc[:,df.columns.str.contains(\"v_Length\")]\n"
   ]
  },
  {
   "cell_type": "code",
   "execution_count": 12,
   "metadata": {
    "ExecuteTime": {
     "end_time": "2020-09-23T13:40:08.513100Z",
     "start_time": "2020-09-23T13:40:08.500136Z"
    }
   },
   "outputs": [],
   "source": [
    "class Comparison():\n",
    "    \n",
    "    def __init__(self, input_data, true_data, cfg):\n",
    "        self.config = cfg\n",
    "        self.input_data = input_data\n",
    "        self.true_data = true_data\n",
    "        #raw - input, new - groud_truth\n",
    "        self.df = self.input_data.merge(self.true_data, how = \"inner\", on = [\"Vehicle_ID\", \"Frame_ID\"], suffixes=[\"_input\", \"_groud_truth\"])\n",
    "        \n",
    "    def MSE_speed(self):\n",
    "        name = self.config['input_speed']\n",
    "        self.df[\"Vel_diff\"] = self.df[name + \"_input\"] - self.df[name + \"_groud_truth\"]\n",
    "        return np.sum(self.df[\"Vel_diff\"] ** 2) / self.df.shape[0]\n",
    "    \n",
    "    def MSE_acce(self):\n",
    "        name = self.config['input_acc']\n",
    "        self.df[\"Acc_diff\"] = self.df[name + \"_input\"] - self.df[name + \"_groud_truth\"]\n",
    "        return np.sum(self.df[\"Acc_diff\"] ** 2)/self.df.shape[0]\n",
    "    \n",
    "    def MSE_loc(self):\n",
    "        name = self.config['input_position']\n",
    "        self.df[\"LocY_diff\"] = self.df[name + \"_input\"] - self.df[name + \"_groud_truth\"] - self.df['v_Length_input']\n",
    "        return np.sum(self.df[\"LocY_diff\"] ** 2)/self.df.shape[0]\n",
    "    \n",
    "    \n",
    "        "
   ]
  },
  {
   "cell_type": "code",
   "execution_count": 13,
   "metadata": {
    "ExecuteTime": {
     "end_time": "2020-09-23T20:09:07.616344Z",
     "start_time": "2020-09-23T20:09:06.818404Z"
    }
   },
   "outputs": [],
   "source": [
    "c = Comparison(df_input_data, df_ground_truth, config)"
   ]
  },
  {
   "cell_type": "code",
   "execution_count": 14,
   "metadata": {},
   "outputs": [
    {
     "data": {
      "text/plain": [
       "2.446651147221717"
      ]
     },
     "execution_count": 14,
     "metadata": {},
     "output_type": "execute_result"
    }
   ],
   "source": [
    "c.MSE_acce()"
   ]
  },
  {
   "cell_type": "code",
   "execution_count": 15,
   "metadata": {
    "ExecuteTime": {
     "end_time": "2020-09-23T20:09:09.512081Z",
     "start_time": "2020-09-23T20:09:08.957530Z"
    }
   },
   "outputs": [
    {
     "data": {
      "text/plain": [
       "3.2561927607149173"
      ]
     },
     "execution_count": 15,
     "metadata": {},
     "output_type": "execute_result"
    }
   ],
   "source": [
    "c.MSE_speed()"
   ]
  },
  {
   "cell_type": "code",
   "execution_count": 16,
   "metadata": {
    "ExecuteTime": {
     "end_time": "2020-09-23T20:09:13.363028Z",
     "start_time": "2020-09-23T20:09:13.331113Z"
    }
   },
   "outputs": [
    {
     "data": {
      "text/plain": [
       "24.335762820860527"
      ]
     },
     "execution_count": 16,
     "metadata": {},
     "output_type": "execute_result"
    }
   ],
   "source": [
    "c.MSE_loc()"
   ]
  },
  {
   "cell_type": "code",
   "execution_count": 17,
   "metadata": {},
   "outputs": [],
   "source": [
    "#np.sum((df[\"v_Vel_input\"] - df[\"v_Vel_groud_truth\"]) **2)/df.shape[0]\n",
    "#np.sum((df[\"v_Acc_input\"] - df[\"v_Acc_groud_truth\"]) **2)/df.shape[0]\n",
    "#df[\"v_Vel_input\"] - df[\"v_Vel_groud_truth\"]\n",
    "#c.df[\"LocY_diff\"].hist(bins=100)\n",
    "#c.df[c.df[\"LocY_diff\"] > 40][\"Vehicle_ID\"].unique()\n",
    "#plt.plot(c.df[c.df[\"Vehicle_ID\"] == 1483][\"Local_Y_groud_truth\"].tolist())\n",
    "# plt.plot(c.df[c.df[\"Vehicle_ID\"] == 1483][\"Local_Y_groud_truth\"].tolist())\n",
    "# plt.plot(c.df[c.df[\"Vehicle_ID\"] == 1483][\"Local_Y_input\"].tolist())"
   ]
  },
  {
   "cell_type": "code",
   "execution_count": 18,
   "metadata": {
    "ExecuteTime": {
     "end_time": "2020-09-23T20:12:40.913400Z",
     "start_time": "2020-09-23T20:12:40.366157Z"
    }
   },
   "outputs": [
    {
     "data": {
      "text/plain": [
       "Lane_ID_groud_truth\n",
       "1.0    2.279408\n",
       "2.0    0.426352\n",
       "3.0    0.482828\n",
       "4.0    0.283382\n",
       "5.0    0.271189\n",
       "6.0    0.371108\n",
       "9.0    1.359397\n",
       "Name: Vel_diff, dtype: float64"
      ]
     },
     "execution_count": 18,
     "metadata": {},
     "output_type": "execute_result"
    }
   ],
   "source": [
    "df[\"Vel_diff\"] = df[\"v_Vel_input\"] - df[\"v_Vel_groud_truth\"]\n",
    "df.groupby(\"Lane_ID_groud_truth\").mean()[\"Vel_diff\"]"
   ]
  },
  {
   "cell_type": "code",
   "execution_count": 19,
   "metadata": {
    "ExecuteTime": {
     "end_time": "2020-09-23T20:17:17.742435Z",
     "start_time": "2020-09-23T20:17:12.201748Z"
    }
   },
   "outputs": [],
   "source": [
    "# ax = sns.kdeplot(data = df, x = df[\"Vel_diff\"], hue = \"Lane_ID_groud_truth\")\n",
    "# ax.set_xlim((-6,6))"
   ]
  },
  {
   "cell_type": "code",
   "execution_count": 20,
   "metadata": {},
   "outputs": [
    {
     "data": {
      "text/html": [
       "<div>\n",
       "<style scoped>\n",
       "    .dataframe tbody tr th:only-of-type {\n",
       "        vertical-align: middle;\n",
       "    }\n",
       "\n",
       "    .dataframe tbody tr th {\n",
       "        vertical-align: top;\n",
       "    }\n",
       "\n",
       "    .dataframe thead th {\n",
       "        text-align: right;\n",
       "    }\n",
       "</style>\n",
       "<table border=\"1\" class=\"dataframe\">\n",
       "  <thead>\n",
       "    <tr style=\"text-align: right;\">\n",
       "      <th></th>\n",
       "      <th>Lane_ID_groud_truth</th>\n",
       "      <th>Lane_ID_input</th>\n",
       "    </tr>\n",
       "  </thead>\n",
       "  <tbody>\n",
       "    <tr>\n",
       "      <th>592</th>\n",
       "      <td>5.0</td>\n",
       "      <td>4</td>\n",
       "    </tr>\n",
       "    <tr>\n",
       "      <th>593</th>\n",
       "      <td>5.0</td>\n",
       "      <td>4</td>\n",
       "    </tr>\n",
       "    <tr>\n",
       "      <th>594</th>\n",
       "      <td>5.0</td>\n",
       "      <td>4</td>\n",
       "    </tr>\n",
       "    <tr>\n",
       "      <th>595</th>\n",
       "      <td>5.0</td>\n",
       "      <td>4</td>\n",
       "    </tr>\n",
       "    <tr>\n",
       "      <th>596</th>\n",
       "      <td>5.0</td>\n",
       "      <td>4</td>\n",
       "    </tr>\n",
       "    <tr>\n",
       "      <th>...</th>\n",
       "      <td>...</td>\n",
       "      <td>...</td>\n",
       "    </tr>\n",
       "    <tr>\n",
       "      <th>164353</th>\n",
       "      <td>9.0</td>\n",
       "      <td>6</td>\n",
       "    </tr>\n",
       "    <tr>\n",
       "      <th>164354</th>\n",
       "      <td>9.0</td>\n",
       "      <td>6</td>\n",
       "    </tr>\n",
       "    <tr>\n",
       "      <th>164355</th>\n",
       "      <td>9.0</td>\n",
       "      <td>6</td>\n",
       "    </tr>\n",
       "    <tr>\n",
       "      <th>165232</th>\n",
       "      <td>3.0</td>\n",
       "      <td>2</td>\n",
       "    </tr>\n",
       "    <tr>\n",
       "      <th>165233</th>\n",
       "      <td>3.0</td>\n",
       "      <td>2</td>\n",
       "    </tr>\n",
       "  </tbody>\n",
       "</table>\n",
       "<p>1093 rows × 2 columns</p>\n",
       "</div>"
      ],
      "text/plain": [
       "        Lane_ID_groud_truth  Lane_ID_input\n",
       "592                     5.0              4\n",
       "593                     5.0              4\n",
       "594                     5.0              4\n",
       "595                     5.0              4\n",
       "596                     5.0              4\n",
       "...                     ...            ...\n",
       "164353                  9.0              6\n",
       "164354                  9.0              6\n",
       "164355                  9.0              6\n",
       "165232                  3.0              2\n",
       "165233                  3.0              2\n",
       "\n",
       "[1093 rows x 2 columns]"
      ]
     },
     "execution_count": 20,
     "metadata": {},
     "output_type": "execute_result"
    }
   ],
   "source": [
    "df[df[\"Lane_ID_groud_truth\"] != df[\"Lane_ID_input\"]][[\"Lane_ID_groud_truth\", \"Lane_ID_input\"]]"
   ]
  },
  {
   "cell_type": "code",
   "execution_count": null,
   "metadata": {},
   "outputs": [],
   "source": []
  }
 ],
 "metadata": {
  "kernelspec": {
   "display_name": "Python 3",
   "language": "python",
   "name": "python3"
  },
  "language_info": {
   "codemirror_mode": {
    "name": "ipython",
    "version": 3
   },
   "file_extension": ".py",
   "mimetype": "text/x-python",
   "name": "python",
   "nbconvert_exporter": "python",
   "pygments_lexer": "ipython3",
   "version": "3.8.0"
  },
  "toc": {
   "base_numbering": 1,
   "nav_menu": {},
   "number_sections": true,
   "sideBar": true,
   "skip_h1_title": false,
   "title_cell": "Table of Contents",
   "title_sidebar": "Contents",
   "toc_cell": false,
   "toc_position": {},
   "toc_section_display": true,
   "toc_window_display": false
  },
  "varInspector": {
   "cols": {
    "lenName": 16,
    "lenType": 16,
    "lenVar": 40
   },
   "kernels_config": {
    "python": {
     "delete_cmd_postfix": "",
     "delete_cmd_prefix": "del ",
     "library": "var_list.py",
     "varRefreshCmd": "print(var_dic_list())"
    },
    "r": {
     "delete_cmd_postfix": ") ",
     "delete_cmd_prefix": "rm(",
     "library": "var_list.r",
     "varRefreshCmd": "cat(var_dic_list()) "
    }
   },
   "types_to_exclude": [
    "module",
    "function",
    "builtin_function_or_method",
    "instance",
    "_Feature"
   ],
   "window_display": false
  }
 },
 "nbformat": 4,
 "nbformat_minor": 4
}
